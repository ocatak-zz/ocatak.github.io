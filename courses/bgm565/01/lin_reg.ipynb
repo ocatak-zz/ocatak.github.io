{
 "cells": [
  {
   "cell_type": "markdown",
   "metadata": {},
   "source": [
    "# 1. Hafta Lab: Doğrusal Regresyon\n",
    "### BGM 565: Siber Güvenlik için Makine Öğrenme Yöntemleri\n",
    "### İstanbul Şehir Üni. - Bilgi Güvenliği Müh.\n",
    "#### Dr. Ferhat Özgür Çatak\n",
    "\n",
    "Bu lab çalışmasında doğrusal regresyon yöntemini sentetik bir kümesine uygulayacağız."
   ]
  },
  {
   "cell_type": "code",
   "execution_count": 1,
   "metadata": {},
   "outputs": [],
   "source": [
    "# kutuphaleri yukle\n",
    "import pandas as pd\n",
    "import matplotlib.pyplot as plt"
   ]
  },
  {
   "cell_type": "markdown",
   "metadata": {},
   "source": [
    "Pandas kütüphanesi kullanarak *ds1.txt* dosyası *verikumesi* degişkenine (dataframe) atanmaktadır. *verikumesi* değişkenin boyutları (21,2) olduğu bulunur. 21 satır ve 2 sütundan oluşmaktadır. $verikumesi \\in \\mathbb{R}^{21 \\times 2}$"
   ]
  },
  {
   "cell_type": "code",
   "execution_count": 2,
   "metadata": {},
   "outputs": [
    {
     "data": {
      "text/plain": [
       "(21, 2)"
      ]
     },
     "execution_count": 2,
     "metadata": {},
     "output_type": "execute_result"
    }
   ],
   "source": [
    "# veri kumesini oku\n",
    "verikumesi = pd.read_csv(\"ds1.txt\",delimiter=\"\\t\")\n",
    "verikumesi.shape"
   ]
  },
  {
   "cell_type": "markdown",
   "metadata": {},
   "source": [
    "Pandas kütüphanesi kodlama açısından Matlab ile benzerlik göstermektedir. *:* karakteri bütün satırları seçmek için kullanılır. *:-1* ifadesiyle sondan bir önceki sütun hariç bütün sütunlar seçilmektedir. Bu lab uygulamasında kullanılan sentetik veri kümesi 2 sütunlu olduğu için ilk sütun seçilecektir. "
   ]
  },
  {
   "cell_type": "code",
   "execution_count": 3,
   "metadata": {},
   "outputs": [
    {
     "name": "stdout",
     "output_type": "stream",
     "text": [
      "X: (21, 1) y: (21,)\n"
     ]
    }
   ],
   "source": [
    "X = verikumesi.iloc[:,:-1].values\n",
    "y = verikumesi.iloc[:,1].values\n",
    "print('X:',X.shape, 'y:',y.shape)"
   ]
  },
  {
   "cell_type": "markdown",
   "metadata": {},
   "source": [
    "$X$ girdi veri kümesi, ve $y$ çıktı değerlerini kullanarak eğitim veri kümesi ve test veri kümesi oluşturumak amacıyla **train_test_split** metodu kullanılmaktadır. **test_size** değişkeni **0.3** seçilerek **%70'i** eğitim veri kümesi (*X_train, y_train)*,  **%30'u**  test veri kümesi (*X_test, y_test*) olarak ayrılmaktadır."
   ]
  },
  {
   "cell_type": "code",
   "execution_count": 4,
   "metadata": {},
   "outputs": [
    {
     "name": "stdout",
     "output_type": "stream",
     "text": [
      "X_train: (14, 1) X_test: (7, 1)\n"
     ]
    },
    {
     "name": "stderr",
     "output_type": "stream",
     "text": [
      "c:\\users\\user\\appdata\\local\\programs\\python\\python35\\lib\\site-packages\\sklearn\\cross_validation.py:41: DeprecationWarning: This module was deprecated in version 0.18 in favor of the model_selection module into which all the refactored classes and functions are moved. Also note that the interface of the new CV iterators are different from that of this module. This module will be removed in 0.20.\n",
      "  \"This module will be removed in 0.20.\", DeprecationWarning)\n"
     ]
    }
   ],
   "source": [
    "# veri kumesini egitim ve test olarak parcala\n",
    "from sklearn.cross_validation import train_test_split\n",
    "X_train, X_test, y_train, y_test = train_test_split(X, y, test_size=0.3, random_state=0)\n",
    "print('X_train:', X_train.shape, 'X_test:',X_test.shape)"
   ]
  },
  {
   "cell_type": "markdown",
   "metadata": {},
   "source": [
    "*regressor* değişkeni ile *LinearRegression* sınıfından bir örnek oluşturulmaktadır. **regressor.fit** metodunun çağırımı ile algoritmanın eğitimi yapılmaktadır."
   ]
  },
  {
   "cell_type": "code",
   "execution_count": 5,
   "metadata": {},
   "outputs": [
    {
     "data": {
      "text/plain": [
       "LinearRegression(copy_X=True, fit_intercept=True, n_jobs=1, normalize=False)"
      ]
     },
     "execution_count": 5,
     "metadata": {},
     "output_type": "execute_result"
    }
   ],
   "source": [
    "# dogrusal regresyon modeli\n",
    "from sklearn.linear_model import LinearRegression\n",
    "regressor = LinearRegression()\n",
    "regressor.fit(X_train, y_train)"
   ]
  },
  {
   "cell_type": "markdown",
   "metadata": {},
   "source": [
    "Eğitilmiş olan **regressor** isimli doğrusal regresyon modeli kullanılarak eğitime katılmamış olan **X_test** veri kümesinin çıktı değerleri tahmin edilmekte ve *y_pred* vektörüne atanmaktadır."
   ]
  },
  {
   "cell_type": "code",
   "execution_count": 6,
   "metadata": {},
   "outputs": [
    {
     "data": {
      "text/plain": [
       "array([20.9564437 , 30.901044  , 44.82348442,  7.03400328, 26.92320388,\n",
       "       24.93428382, 32.88996406])"
      ]
     },
     "execution_count": 6,
     "metadata": {},
     "output_type": "execute_result"
    }
   ],
   "source": [
    "# tahmin\n",
    "y_pred = regressor.predict(X_test)\n",
    "y_pred"
   ]
  },
  {
   "cell_type": "markdown",
   "metadata": {},
   "source": [
    "Tahmin edilen değerleri *plt.plot* metod çağırımıyla, *plt.scatter* metodu çağırımıyla ise eğitimde kullanılan örnekler aynı grafik üzerinde gösterilmektedir."
   ]
  },
  {
   "cell_type": "code",
   "execution_count": 7,
   "metadata": {},
   "outputs": [
    {
     "data": {
      "image/png": "[encoded data removed]",
      "text/plain": [
       "<matplotlib.figure.Figure at 0x233a611f780>"
      ]
     },
     "metadata": {},
     "output_type": "display_data"
    }
   ],
   "source": [
    "# veri gorsellestirme\n",
    "plt.scatter(X_train, y_train, color='red')\n",
    "plt.plot(X_test, y_pred, color='blue')\n",
    "plt.show()"
   ]
  },
  {
   "cell_type": "code",
   "execution_count": null,
   "metadata": {},
   "outputs": [],
   "source": []
  }
 ],
 "metadata": {
  "kernelspec": {
   "display_name": "Python 3",
   "language": "python",
   "name": "python3"
  },
  "language_info": {
   "codemirror_mode": {
    "name": "ipython",
    "version": 3
   },
   "file_extension": ".py",
   "mimetype": "text/x-python",
   "name": "python",
   "nbconvert_exporter": "python",
   "pygments_lexer": "ipython3",
   "version": "3.5.4"
  }
 },
 "nbformat": 4,
 "nbformat_minor": 2
}
