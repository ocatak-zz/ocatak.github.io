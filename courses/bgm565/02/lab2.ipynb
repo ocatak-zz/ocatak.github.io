{
 "cells": [
  {
   "cell_type": "markdown",
   "metadata": {},
   "source": [
    "# 2. Hafta Lab-2: Regularization\n",
    "### BGM 565: Siber Güvenlik için Makine Öğrenme Yöntemleri\n",
    "### İstanbul Şehir Üni. - Bilgi Güvenliği Müh.\n",
    "#### Dr. Ferhat Özgür Çatak\n",
    "\n",
    "Bu lab çalışmasında doğrusal regresyon probleminin *gradient descent* çözümünde kullanılan **regularization** yöntemini sentetik bir kümesine uygulayacağız."
   ]
  },
  {
   "cell_type": "code",
   "execution_count": 1,
   "metadata": {},
   "outputs": [],
   "source": [
    "import numpy as np\n",
    "import pandas as pd\n",
    "from sklearn.linear_model import SGDRegressor"
   ]
  },
  {
   "cell_type": "markdown",
   "metadata": {},
   "source": [
    "Pandas kütüphanesi kullanarak ds2.txt dosyası verikumesi degişkenine (dataframe) atanmaktadır."
   ]
  },
  {
   "cell_type": "code",
   "execution_count": 2,
   "metadata": {},
   "outputs": [],
   "source": [
    "# veri kumesini oku\n",
    "verikumesi = pd.read_csv(\"ds2.txt\",delimiter=\"\\t\")\n",
    "X = verikumesi.iloc[:,:-1].values\n",
    "y = verikumesi.iloc[:,X.shape[1]].values"
   ]
  },
  {
   "cell_type": "markdown",
   "metadata": {},
   "source": [
    "$X$ ve $y$ kullanılarak regresyon modeli l1 için eğitilir."
   ]
  },
  {
   "cell_type": "code",
   "execution_count": 3,
   "metadata": {},
   "outputs": [
    {
     "name": "stdout",
     "output_type": "stream",
     "text": [
      "[0.14807012] [1.92528755 2.99112228 0.97849403 1.95101789]\n"
     ]
    }
   ],
   "source": [
    "# modeli l1 regularization ile tanimla\n",
    "regressor = SGDRegressor(penalty=\"l1\", verbose=0, max_iter=100000)\n",
    "# modeli egit\n",
    "regressor.fit(X, y)\n",
    "print(regressor.intercept_, regressor.coef_)"
   ]
  },
  {
   "cell_type": "markdown",
   "metadata": {},
   "source": [
    "Bu veri kümesi içi hipotez: $h(\\mathbf{x}) = 0.1537206 + 1.92059957 \\cdot x_1 + 2.98959435 \\cdot x_2 + 0.97867187 \\cdot x_3 + 1.94799199 \\cdot x_4$ (eski model $h(\\mathbf{x})=0.12490622+1.9516536 \\cdot x_1 + 2.98882317 \\cdot x_2 + 0.97638019 \\cdot x_3 + 1.96358802 \\cdot x4$). Hipotez kullanılarak $X$ verikümesinin çıktı değerleri tahmin ederek y_pred vektörüne atayalım"
   ]
  },
  {
   "cell_type": "code",
   "execution_count": 4,
   "metadata": {},
   "outputs": [],
   "source": [
    "y_pred_l1 = regressor.predict(X)"
   ]
  },
  {
   "cell_type": "markdown",
   "metadata": {},
   "source": [
    "$X$ ve $y$ kullanılarak regresyon modeli l2 için eğitilir."
   ]
  },
  {
   "cell_type": "code",
   "execution_count": 5,
   "metadata": {},
   "outputs": [
    {
     "name": "stdout",
     "output_type": "stream",
     "text": [
      "[0.15366447] [1.92069278 2.9895874  0.9786463  1.94803955]\n"
     ]
    }
   ],
   "source": [
    "# modeli l2 regularization ile tanimla\n",
    "regressor = SGDRegressor(penalty=\"l2\", verbose=0, max_iter=100000)\n",
    "# modeli egit\n",
    "regressor.fit(X, y)\n",
    "print(regressor.intercept_, regressor.coef_)\n",
    "y_pred_l2 = regressor.predict(X)"
   ]
  },
  {
   "cell_type": "markdown",
   "metadata": {},
   "source": [
    "Analitik : $h(\\mathbf{x})=0.12490622+1.9516536 \\cdot x_1 + 2.98882317 \\cdot x_2 + 0.97638019 \\cdot x_3 + 1.96358802 \\cdot x_4$\n",
    "\n",
    "L1-reg.  : $h(\\mathbf{x}) = 0.1537206 + 1.92059957 \\cdot x_1 + 2.98959435 \\cdot x_2 + 0.97867187 \\cdot x_3 + 1.94799199 \\cdot x_4$\n",
    "\n",
    "L2-reg.  : $h(\\mathbf{x}) = 0.15366447 + 1.92069278 \\cdot x_1 + 2.9895874 \\cdot x_2 + 0.97864630 \\cdot x_3 + 1.94803955 \\cdot x_4$"
   ]
  },
  {
   "cell_type": "code",
   "execution_count": 6,
   "metadata": {},
   "outputs": [
    {
     "data": {
      "text/html": [
       "<div>\n",
       "<style scoped>\n",
       "    .dataframe tbody tr th:only-of-type {\n",
       "        vertical-align: middle;\n",
       "    }\n",
       "\n",
       "    .dataframe tbody tr th {\n",
       "        vertical-align: top;\n",
       "    }\n",
       "\n",
       "    .dataframe thead th {\n",
       "        text-align: right;\n",
       "    }\n",
       "</style>\n",
       "<table border=\"1\" class=\"dataframe\">\n",
       "  <thead>\n",
       "    <tr style=\"text-align: right;\">\n",
       "      <th></th>\n",
       "      <th>y</th>\n",
       "      <th>y_pred_l1</th>\n",
       "      <th>y_pred_l2</th>\n",
       "    </tr>\n",
       "  </thead>\n",
       "  <tbody>\n",
       "    <tr>\n",
       "      <th>0</th>\n",
       "      <td>3.74</td>\n",
       "      <td>3.737806</td>\n",
       "      <td>3.739072</td>\n",
       "    </tr>\n",
       "    <tr>\n",
       "      <th>1</th>\n",
       "      <td>4.55</td>\n",
       "      <td>4.531350</td>\n",
       "      <td>4.531290</td>\n",
       "    </tr>\n",
       "    <tr>\n",
       "      <th>2</th>\n",
       "      <td>5.24</td>\n",
       "      <td>5.244872</td>\n",
       "      <td>5.244047</td>\n",
       "    </tr>\n",
       "    <tr>\n",
       "      <th>3</th>\n",
       "      <td>5.92</td>\n",
       "      <td>5.943300</td>\n",
       "      <td>5.942185</td>\n",
       "    </tr>\n",
       "    <tr>\n",
       "      <th>4</th>\n",
       "      <td>5.75</td>\n",
       "      <td>5.740648</td>\n",
       "      <td>5.739543</td>\n",
       "    </tr>\n",
       "    <tr>\n",
       "      <th>5</th>\n",
       "      <td>6.43</td>\n",
       "      <td>6.401441</td>\n",
       "      <td>6.400426</td>\n",
       "    </tr>\n",
       "    <tr>\n",
       "      <th>6</th>\n",
       "      <td>3.91</td>\n",
       "      <td>3.941119</td>\n",
       "      <td>3.941335</td>\n",
       "    </tr>\n",
       "    <tr>\n",
       "      <th>7</th>\n",
       "      <td>5.31</td>\n",
       "      <td>5.333337</td>\n",
       "      <td>5.333688</td>\n",
       "    </tr>\n",
       "    <tr>\n",
       "      <th>8</th>\n",
       "      <td>3.89</td>\n",
       "      <td>3.858173</td>\n",
       "      <td>3.858533</td>\n",
       "    </tr>\n",
       "    <tr>\n",
       "      <th>9</th>\n",
       "      <td>3.02</td>\n",
       "      <td>3.029537</td>\n",
       "      <td>3.031417</td>\n",
       "    </tr>\n",
       "  </tbody>\n",
       "</table>\n",
       "</div>"
      ],
      "text/plain": [
       "      y  y_pred_l1  y_pred_l2\n",
       "0  3.74   3.737806   3.739072\n",
       "1  4.55   4.531350   4.531290\n",
       "2  5.24   5.244872   5.244047\n",
       "3  5.92   5.943300   5.942185\n",
       "4  5.75   5.740648   5.739543\n",
       "5  6.43   6.401441   6.400426\n",
       "6  3.91   3.941119   3.941335\n",
       "7  5.31   5.333337   5.333688\n",
       "8  3.89   3.858173   3.858533\n",
       "9  3.02   3.029537   3.031417"
      ]
     },
     "execution_count": 6,
     "metadata": {},
     "output_type": "execute_result"
    }
   ],
   "source": [
    "df = pd.DataFrame({\"y\":y,\"y_pred_l1\":y_pred_l1,\"y_pred_l2\":y_pred_l2})\n",
    "df"
   ]
  },
  {
   "cell_type": "code",
   "execution_count": null,
   "metadata": {},
   "outputs": [],
   "source": []
  }
 ],
 "metadata": {
  "kernelspec": {
   "display_name": "Python 3",
   "language": "python",
   "name": "python3"
  },
  "language_info": {
   "codemirror_mode": {
    "name": "ipython",
    "version": 3
   },
   "file_extension": ".py",
   "mimetype": "text/x-python",
   "name": "python",
   "nbconvert_exporter": "python",
   "pygments_lexer": "ipython3",
   "version": "3.5.4"
  }
 },
 "nbformat": 4,
 "nbformat_minor": 2
}
