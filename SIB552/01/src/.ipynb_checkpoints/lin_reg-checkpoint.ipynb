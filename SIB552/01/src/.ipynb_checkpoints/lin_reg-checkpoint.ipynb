{
 "cells": [
  {
   "cell_type": "markdown",
   "metadata": {},
   "source": [
    "# 1. Hafta Lab: Doğrusal Regresyon\n",
    "### BGM 565: Siber Güvenlik için Makine Öğrenme Yöntemleri\n",
    "### İstanbul Şehir Üni. - Bilgi Güvenliği Müh.\n",
    "#### Dr. Ferhat Özgür Çatak\n",
    "\n",
    "Bu lab çalışmasında doğrusal regresyon yöntemini sentetik bir kümesine uygulayacağız."
   ]
  },
  {
   "cell_type": "code",
   "execution_count": null,
   "metadata": {},
   "outputs": [],
   "source": [
    "# kutuphaleri yukle\n",
    "import pandas as pd\n",
    "import matplotlib.pyplot as plt"
   ]
  },
  {
   "cell_type": "markdown",
   "metadata": {},
   "source": [
    "Pandas kütüphanesi kullanarak *ds1.txt* dosyası *verikumesi* degişkenine (dataframe) atanmaktadır. *verikumesi* değişkenin boyutları (21,2) olduğu bulunur. 21 satır ve 2 sütundan oluşmaktadır. $verikumesi \\in \\mathbb{R}^{21 \\times 2}$"
   ]
  },
  {
   "cell_type": "code",
   "execution_count": null,
   "metadata": {},
   "outputs": [],
   "source": [
    "# veri kumesini oku\n",
    "verikumesi = pd.read_csv(\"ds1.txt\",delimiter=\"\\t\")\n",
    "verikumesi.shape"
   ]
  },
  {
   "cell_type": "markdown",
   "metadata": {},
   "source": [
    "Pandas kütüphanesi kodlama açısından Matlab ile benzerlik göstermektedir. *:* karakteri bütün satırları seçmek için kullanılır. *:-1* ifadesiyle sondan bir önceki sütun hariç bütün sütunlar seçilmektedir. Bu lab uygulamasında kullanılan sentetik veri kümesi 2 sütunlu olduğu için ilk sütun seçilecektir. "
   ]
  },
  {
   "cell_type": "code",
   "execution_count": null,
   "metadata": {},
   "outputs": [],
   "source": [
    "X = verikumesi.iloc[:,:-1].values\n",
    "y = verikumesi.iloc[:,1].values\n",
    "print('X:',X.shape, 'y:',y.shape)"
   ]
  },
  {
   "cell_type": "markdown",
   "metadata": {},
   "source": [
    "$X$ girdi veri kümesi, ve $y$ çıktı değerlerini kullanarak eğitim veri kümesi ve test veri kümesi oluşturumak amacıyla **train_test_split** metodu kullanılmaktadır. **test_size** değişkeni **0.3** seçilerek **%70'i** eğitim veri kümesi (*X_train, y_train)*,  **%30'u**  test veri kümesi (*X_test, y_test*) olarak ayrılmaktadır."
   ]
  },
  {
   "cell_type": "code",
   "execution_count": null,
   "metadata": {},
   "outputs": [],
   "source": [
    "# veri kumesini egitim ve test olarak parcala\n",
    "from sklearn.cross_validation import train_test_split\n",
    "X_train, X_test, y_train, y_test = train_test_split(X, y, test_size=0.3, random_state=0)\n",
    "print('X_train:', X_train.shape, 'X_test:',X_test.shape)"
   ]
  },
  {
   "cell_type": "markdown",
   "metadata": {},
   "source": [
    "*regressor* değişkeni ile *LinearRegression* sınıfından bir örnek oluşturulmaktadır. **regressor.fit** metodunun çağırımı ile algoritmanın eğitimi yapılmaktadır."
   ]
  },
  {
   "cell_type": "code",
   "execution_count": null,
   "metadata": {},
   "outputs": [],
   "source": [
    "# dogrusal regresyon modeli\n",
    "from sklearn.linear_model import LinearRegression\n",
    "regressor = LinearRegression()\n",
    "regressor.fit(X_train, y_train)"
   ]
  },
  {
   "cell_type": "markdown",
   "metadata": {},
   "source": [
    "Eğitilmiş olan **regressor** isimli doğrusal regresyon modeli kullanılarak eğitime katılmamış olan **X_test** veri kümesinin çıktı değerleri tahmin edilmekte ve *y_pred* vektörüne atanmaktadır."
   ]
  },
  {
   "cell_type": "code",
   "execution_count": null,
   "metadata": {},
   "outputs": [],
   "source": [
    "# tahmin\n",
    "y_pred = regressor.predict(X_test)\n",
    "y_pred"
   ]
  },
  {
   "cell_type": "markdown",
   "metadata": {},
   "source": [
    "Tahmin edilen değerleri *plt.plot* metod çağırımıyla, *plt.scatter* metodu çağırımıyla ise eğitimde kullanılan örnekler aynı grafik üzerinde gösterilmektedir."
   ]
  },
  {
   "cell_type": "code",
   "execution_count": null,
   "metadata": {},
   "outputs": [],
   "source": [
    "# veri gorsellestirme\n",
    "plt.scatter(X_train, y_train, color='red')\n",
    "plt.plot(X_test, y_pred, color='blue')\n",
    "plt.show()"
   ]
  },
  {
   "cell_type": "code",
   "execution_count": null,
   "metadata": {},
   "outputs": [],
   "source": []
  }
 ],
 "metadata": {
  "kernelspec": {
   "display_name": "Python 3",
   "language": "python",
   "name": "python3"
  },
  "language_info": {
   "codemirror_mode": {
    "name": "ipython",
    "version": 3
   },
   "file_extension": ".py",
   "mimetype": "text/x-python",
   "name": "python",
   "nbconvert_exporter": "python",
   "pygments_lexer": "ipython3",
   "version": "3.5.4"
  }
 },
 "nbformat": 4,
 "nbformat_minor": 2
}
