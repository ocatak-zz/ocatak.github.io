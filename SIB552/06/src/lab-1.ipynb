{
 "cells": [
  {
   "cell_type": "markdown",
   "metadata": {},
   "source": [
    "# 7. Hafta Lab-1: Yapay Sinir Ağları\n",
    "## SİB 552: Siber Güvenlik İçin Veri Madenciliği\n",
    "## Gebze Teknik Üniversitesi - Siber Güvenlik Yüksek Lisans Programı\n",
    "### Dr. Ferhat Özgür Çatak"
   ]
  },
  {
   "cell_type": "code",
   "execution_count": 1,
   "metadata": {},
   "outputs": [],
   "source": [
    "import pandas as pd\n",
    "import numpy as np\n",
    "from sklearn.model_selection import train_test_split\n",
    "from sklearn.metrics import classification_report,confusion_matrix,accuracy_score,roc_curve\n",
    "import matplotlib.pyplot as plt\n",
    "from IPython.display import Image"
   ]
  },
  {
   "cell_type": "code",
   "execution_count": 2,
   "metadata": {},
   "outputs": [
    {
     "name": "stderr",
     "output_type": "stream",
     "text": [
      "Using TensorFlow backend.\n"
     ]
    }
   ],
   "source": [
    "from keras.models import Sequential, Model\n",
    "from keras.layers import Dense, Dropout, Embedding, Input\n",
    "from keras.utils import plot_model"
   ]
  },
  {
   "cell_type": "code",
   "execution_count": 3,
   "metadata": {},
   "outputs": [],
   "source": [
    "# veri kumesini oku\n",
    "kolon_adlari = ['duration','protocol_type','service','flag','src_bytes','dst_bytes','land','wrong_fragment','urgent',\n",
    "'hot','num_failed_logins','logged_in','num_compromised','root_shell','su_attempted','num_root','num_file_creations',\n",
    "'num_shells','num_access_files','num_outbound_cmds','is_host_login','is_guest_login','count','srv_count',\n",
    "'serror_rate','srv_serror_rate','rerror_rate','srv_rerror_rate','same_srv_rate','diff_srv_rate','srv_diff_host_rate',\n",
    "'dst_host_count','dst_host_srv_count','dst_host_same_srv_rate','dst_host_diff_srv_rate','dst_host_same_src_port_rate',\n",
    "'dst_host_srv_diff_host_rate','dst_host_serror_rate','dst_host_srv_serror_rate','dst_host_rerror_rate',\n",
    "'dst_host_srv_rerror_rate','label']\n",
    "\n",
    "verikumesi = pd.read_csv(\"kddcup99.tar.gz\",compression=\"gzip\", names=kolon_adlari, \n",
    "low_memory=False, skiprows=1)"
   ]
  },
  {
   "cell_type": "code",
   "execution_count": 4,
   "metadata": {},
   "outputs": [
    {
     "name": "stderr",
     "output_type": "stream",
     "text": [
      "c:\\users\\ozgur\\appdata\\local\\programs\\python\\python35\\lib\\site-packages\\ipykernel_launcher.py:9: FutureWarning: Method .as_matrix will be removed in a future version. Use .values instead.\n",
      "  if __name__ == '__main__':\n",
      "c:\\users\\ozgur\\appdata\\local\\programs\\python\\python35\\lib\\site-packages\\ipykernel_launcher.py:10: FutureWarning: Method .as_matrix will be removed in a future version. Use .values instead.\n",
      "  # Remove the CWD from sys.path while we load stuff.\n"
     ]
    }
   ],
   "source": [
    "# ilgili kolonlari sec\n",
    "secilecek_kolonlar = ['duration','src_bytes','dst_bytes','wrong_fragment','urgent','hot','num_failed_logins',\n",
    "'num_compromised','root_shell','su_attempted','num_root','num_file_creations','num_shells',\n",
    "'num_access_files','num_outbound_cmds','count','srv_count','serror_rate','srv_serror_rate',\n",
    "'rerror_rate','srv_rerror_rate','same_srv_rate','diff_srv_rate','srv_diff_host_rate','dst_host_count',\n",
    "'dst_host_srv_count','dst_host_same_srv_rate','dst_host_diff_srv_rate','dst_host_same_src_port_rate',\n",
    "'dst_host_srv_diff_host_rate','dst_host_serror_rate','dst_host_srv_serror_rate','dst_host_rerror_rate',\n",
    "'dst_host_srv_rerror_rate']\n",
    "X = verikumesi[secilecek_kolonlar].as_matrix()\n",
    "y = verikumesi['label'].apply(lambda d:0 if d == 'normal.' else 1).as_matrix()\n",
    "\n",
    "# Egitim ve test veri kumeleri olustur\n",
    "X_train, X_test, y_train, y_test = train_test_split(X, y, test_size=0.33)"
   ]
  },
  {
   "cell_type": "markdown",
   "metadata": {},
   "source": [
    "### Yapay sinir ağı modeli oluştur"
   ]
  },
  {
   "cell_type": "code",
   "execution_count": 5,
   "metadata": {},
   "outputs": [
    {
     "name": "stdout",
     "output_type": "stream",
     "text": [
      "WARNING:tensorflow:From c:\\users\\ozgur\\appdata\\local\\programs\\python\\python35\\lib\\site-packages\\tensorflow\\python\\framework\\op_def_library.py:263: colocate_with (from tensorflow.python.framework.ops) is deprecated and will be removed in a future version.\n",
      "Instructions for updating:\n",
      "Colocations handled automatically by placer.\n"
     ]
    },
    {
     "data": {
      "text/plain": [
       "34"
      ]
     },
     "execution_count": 5,
     "metadata": {},
     "output_type": "execute_result"
    }
   ],
   "source": [
    "model = Sequential()\n",
    "model.add(Dense(10, input_dim=X_train.shape[1], activation='sigmoid', kernel_initializer='uniform' ))\n",
    "model.add(Dense(1, activation='sigmoid', kernel_initializer='uniform'))\n",
    "X_train.shape[1]"
   ]
  },
  {
   "cell_type": "markdown",
   "metadata": {},
   "source": [
    "### Modeli compile edelim"
   ]
  },
  {
   "cell_type": "code",
   "execution_count": 6,
   "metadata": {},
   "outputs": [],
   "source": [
    "model.compile(loss='binary_crossentropy', optimizer='Adam', metrics=['accuracy'])"
   ]
  },
  {
   "cell_type": "markdown",
   "metadata": {},
   "source": [
    "### Modeli inceleyelim."
   ]
  },
  {
   "cell_type": "code",
   "execution_count": 7,
   "metadata": {},
   "outputs": [
    {
     "name": "stdout",
     "output_type": "stream",
     "text": [
      "_________________________________________________________________\n",
      "Layer (type)                 Output Shape              Param #   \n",
      "=================================================================\n",
      "dense_1 (Dense)              (None, 10)                350       \n",
      "_________________________________________________________________\n",
      "dense_2 (Dense)              (None, 1)                 11        \n",
      "=================================================================\n",
      "Total params: 361\n",
      "Trainable params: 361\n",
      "Non-trainable params: 0\n",
      "_________________________________________________________________\n"
     ]
    }
   ],
   "source": [
    "#plot_model(model, show_shapes=True,to_file=\"binary.png\")\n",
    "#Image(\"binary.png\")\n",
    "model.summary()"
   ]
  },
  {
   "cell_type": "markdown",
   "metadata": {},
   "source": [
    "### Modeli eğitelim"
   ]
  },
  {
   "cell_type": "code",
   "execution_count": 8,
   "metadata": {},
   "outputs": [
    {
     "name": "stdout",
     "output_type": "stream",
     "text": [
      "WARNING:tensorflow:From c:\\users\\ozgur\\appdata\\local\\programs\\python\\python35\\lib\\site-packages\\tensorflow\\python\\ops\\math_ops.py:3066: to_int32 (from tensorflow.python.ops.math_ops) is deprecated and will be removed in a future version.\n",
      "Instructions for updating:\n",
      "Use tf.cast instead.\n",
      "Train on 221765 samples, validate on 109228 samples\n",
      "Epoch 1/50\n",
      "221765/221765 [==============================] - 1s 3us/step - loss: 0.4094 - acc: 0.8030 - val_loss: 0.2796 - val_acc: 0.8028\n",
      "Epoch 2/50\n",
      "221765/221765 [==============================] - 0s 2us/step - loss: 0.2383 - acc: 0.8030 - val_loss: 0.2090 - val_acc: 0.8028\n",
      "Epoch 3/50\n",
      "221765/221765 [==============================] - 0s 2us/step - loss: 0.1907 - acc: 0.8708 - val_loss: 0.1748 - val_acc: 0.9866\n",
      "Epoch 4/50\n",
      "221765/221765 [==============================] - 0s 2us/step - loss: 0.1618 - acc: 0.9890 - val_loss: 0.1500 - val_acc: 0.9899\n",
      "Epoch 5/50\n",
      "221765/221765 [==============================] - 0s 2us/step - loss: 0.1397 - acc: 0.9898 - val_loss: 0.1301 - val_acc: 0.9905\n",
      "Epoch 6/50\n",
      "221765/221765 [==============================] - 0s 2us/step - loss: 0.1217 - acc: 0.9900 - val_loss: 0.1138 - val_acc: 0.9901\n",
      "Epoch 7/50\n",
      "221765/221765 [==============================] - 0s 2us/step - loss: 0.1069 - acc: 0.9901 - val_loss: 0.1003 - val_acc: 0.9905\n",
      "Epoch 8/50\n",
      "221765/221765 [==============================] - 0s 2us/step - loss: 0.0948 - acc: 0.9905 - val_loss: 0.0895 - val_acc: 0.9907\n",
      "Epoch 9/50\n",
      "221765/221765 [==============================] - 0s 2us/step - loss: 0.0849 - acc: 0.9907 - val_loss: 0.0809 - val_acc: 0.9906\n",
      "Epoch 10/50\n",
      "221765/221765 [==============================] - 0s 2us/step - loss: 0.0766 - acc: 0.9910 - val_loss: 0.0728 - val_acc: 0.9911\n",
      "Epoch 11/50\n",
      "221765/221765 [==============================] - 0s 2us/step - loss: 0.0696 - acc: 0.9912 - val_loss: 0.0666 - val_acc: 0.9915\n",
      "Epoch 12/50\n",
      "221765/221765 [==============================] - 0s 2us/step - loss: 0.0638 - acc: 0.9915 - val_loss: 0.0612 - val_acc: 0.9915\n",
      "Epoch 13/50\n",
      "221765/221765 [==============================] - 0s 2us/step - loss: 0.0587 - acc: 0.9916 - val_loss: 0.0568 - val_acc: 0.9915\n",
      "Epoch 14/50\n",
      "221765/221765 [==============================] - 0s 2us/step - loss: 0.0546 - acc: 0.9915 - val_loss: 0.0527 - val_acc: 0.9914\n",
      "Epoch 15/50\n",
      "221765/221765 [==============================] - 0s 2us/step - loss: 0.0510 - acc: 0.9915 - val_loss: 0.0498 - val_acc: 0.9913\n",
      "Epoch 16/50\n",
      "221765/221765 [==============================] - 0s 2us/step - loss: 0.0481 - acc: 0.9912 - val_loss: 0.0473 - val_acc: 0.9915\n",
      "Epoch 17/50\n",
      "221765/221765 [==============================] - 0s 2us/step - loss: 0.0459 - acc: 0.9915 - val_loss: 0.0447 - val_acc: 0.9916\n",
      "Epoch 18/50\n",
      "221765/221765 [==============================] - 0s 2us/step - loss: 0.0428 - acc: 0.9920 - val_loss: 0.0415 - val_acc: 0.9918\n",
      "Epoch 19/50\n",
      "221765/221765 [==============================] - 0s 2us/step - loss: 0.0407 - acc: 0.9924 - val_loss: 0.0402 - val_acc: 0.9926\n",
      "Epoch 20/50\n",
      "221765/221765 [==============================] - 0s 2us/step - loss: 0.0390 - acc: 0.9929 - val_loss: 0.0384 - val_acc: 0.9921\n",
      "Epoch 21/50\n",
      "221765/221765 [==============================] - 0s 2us/step - loss: 0.0376 - acc: 0.9928 - val_loss: 0.0364 - val_acc: 0.9933\n",
      "Epoch 22/50\n",
      "221765/221765 [==============================] - 0s 2us/step - loss: 0.0362 - acc: 0.9931 - val_loss: 0.0355 - val_acc: 0.9930\n",
      "Epoch 23/50\n",
      "221765/221765 [==============================] - 0s 2us/step - loss: 0.0355 - acc: 0.9931 - val_loss: 0.0343 - val_acc: 0.9932\n",
      "Epoch 24/50\n",
      "221765/221765 [==============================] - 0s 2us/step - loss: 0.0340 - acc: 0.9930 - val_loss: 0.0338 - val_acc: 0.9934\n",
      "Epoch 25/50\n",
      "221765/221765 [==============================] - 0s 2us/step - loss: 0.0347 - acc: 0.9919 - val_loss: 0.0345 - val_acc: 0.9918\n",
      "Epoch 26/50\n",
      "221765/221765 [==============================] - 0s 2us/step - loss: 0.0340 - acc: 0.9917 - val_loss: 0.0339 - val_acc: 0.9918\n",
      "Epoch 27/50\n",
      "221765/221765 [==============================] - 0s 2us/step - loss: 0.0336 - acc: 0.9918 - val_loss: 0.0335 - val_acc: 0.9919\n",
      "Epoch 28/50\n",
      "221765/221765 [==============================] - 0s 2us/step - loss: 0.0329 - acc: 0.9922 - val_loss: 0.0343 - val_acc: 0.9897\n",
      "Epoch 29/50\n",
      "221765/221765 [==============================] - 0s 2us/step - loss: 0.0321 - acc: 0.9927 - val_loss: 0.0319 - val_acc: 0.9934\n",
      "Epoch 30/50\n",
      "221765/221765 [==============================] - 0s 2us/step - loss: 0.0314 - acc: 0.9928 - val_loss: 0.0311 - val_acc: 0.9924\n",
      "Epoch 31/50\n",
      "221765/221765 [==============================] - 0s 2us/step - loss: 0.0315 - acc: 0.9921 - val_loss: 0.0310 - val_acc: 0.9926\n",
      "Epoch 32/50\n",
      "221765/221765 [==============================] - 0s 2us/step - loss: 0.0308 - acc: 0.9928 - val_loss: 0.0303 - val_acc: 0.9931\n",
      "Epoch 33/50\n",
      "221765/221765 [==============================] - 0s 2us/step - loss: 0.0302 - acc: 0.9929 - val_loss: 0.0302 - val_acc: 0.9928\n",
      "Epoch 34/50\n",
      "221765/221765 [==============================] - 0s 2us/step - loss: 0.0300 - acc: 0.9930 - val_loss: 0.0311 - val_acc: 0.9926\n",
      "Epoch 35/50\n",
      "221765/221765 [==============================] - 0s 2us/step - loss: 0.0299 - acc: 0.9931 - val_loss: 0.0294 - val_acc: 0.9933\n",
      "Epoch 36/50\n",
      "221765/221765 [==============================] - 0s 2us/step - loss: 0.0301 - acc: 0.9932 - val_loss: 0.0297 - val_acc: 0.9933\n",
      "Epoch 37/50\n",
      "221765/221765 [==============================] - 0s 2us/step - loss: 0.0296 - acc: 0.9932 - val_loss: 0.0297 - val_acc: 0.9935\n",
      "Epoch 38/50\n",
      "221765/221765 [==============================] - 0s 2us/step - loss: 0.0296 - acc: 0.9932 - val_loss: 0.0294 - val_acc: 0.9934\n",
      "Epoch 39/50\n",
      "221765/221765 [==============================] - 0s 2us/step - loss: 0.0300 - acc: 0.9928 - val_loss: 0.0296 - val_acc: 0.9934\n",
      "Epoch 40/50\n",
      "221765/221765 [==============================] - 0s 2us/step - loss: 0.0293 - acc: 0.9934 - val_loss: 0.0291 - val_acc: 0.9934\n",
      "Epoch 41/50\n",
      "221765/221765 [==============================] - 0s 2us/step - loss: 0.0289 - acc: 0.9934 - val_loss: 0.0287 - val_acc: 0.9935\n",
      "Epoch 42/50\n",
      "221765/221765 [==============================] - 0s 2us/step - loss: 0.0292 - acc: 0.9934 - val_loss: 0.0292 - val_acc: 0.9936\n",
      "Epoch 43/50\n",
      "221765/221765 [==============================] - 0s 2us/step - loss: 0.0293 - acc: 0.9933 - val_loss: 0.0296 - val_acc: 0.9936\n",
      "Epoch 44/50\n",
      "221765/221765 [==============================] - 0s 2us/step - loss: 0.0291 - acc: 0.9933 - val_loss: 0.0285 - val_acc: 0.9934\n",
      "Epoch 45/50\n",
      "221765/221765 [==============================] - 0s 2us/step - loss: 0.0290 - acc: 0.9933 - val_loss: 0.0291 - val_acc: 0.9934\n",
      "Epoch 46/50\n",
      "221765/221765 [==============================] - 0s 2us/step - loss: 0.0294 - acc: 0.9928 - val_loss: 0.0299 - val_acc: 0.9924\n",
      "Epoch 47/50\n",
      "221765/221765 [==============================] - 0s 2us/step - loss: 0.0292 - acc: 0.9932 - val_loss: 0.0291 - val_acc: 0.9934\n",
      "Epoch 48/50\n",
      "221765/221765 [==============================] - 0s 2us/step - loss: 0.0297 - acc: 0.9931 - val_loss: 0.0290 - val_acc: 0.9935\n",
      "Epoch 49/50\n",
      "221765/221765 [==============================] - 0s 2us/step - loss: 0.0288 - acc: 0.9934 - val_loss: 0.0285 - val_acc: 0.9934\n",
      "Epoch 50/50\n",
      "221765/221765 [==============================] - 0s 2us/step - loss: 0.0298 - acc: 0.9934 - val_loss: 0.0297 - val_acc: 0.9934\n"
     ]
    }
   ],
   "source": [
    "history = model.fit(X_train, y_train, epochs=50, batch_size=1024, verbose=1, validation_split=0.33)"
   ]
  },
  {
   "cell_type": "markdown",
   "metadata": {},
   "source": [
    "### Sınıflandırma modelinin performansına bakalım."
   ]
  },
  {
   "cell_type": "code",
   "execution_count": 9,
   "metadata": {},
   "outputs": [],
   "source": [
    "y_pred = model.predict_classes(X_test)"
   ]
  },
  {
   "cell_type": "code",
   "execution_count": 10,
   "metadata": {},
   "outputs": [
    {
     "data": {
      "text/plain": [
       "'              precision    recall  f1-score   support\\n\\n           0       0.97      1.00      0.98     32061\\n           1       1.00      0.99      1.00    130966\\n\\n   micro avg       0.99      0.99      0.99    163027\\n   macro avg       0.98      0.99      0.99    163027\\nweighted avg       0.99      0.99      0.99    163027\\n'"
      ]
     },
     "execution_count": 10,
     "metadata": {},
     "output_type": "execute_result"
    }
   ],
   "source": [
    "classification_report(y_test, y_pred)"
   ]
  },
  {
   "cell_type": "code",
   "execution_count": 11,
   "metadata": {},
   "outputs": [
    {
     "data": {
      "text/plain": [
       "0.993301723027474"
      ]
     },
     "execution_count": 11,
     "metadata": {},
     "output_type": "execute_result"
    }
   ],
   "source": [
    "accuracy_score(y_test, y_pred)"
   ]
  },
  {
   "cell_type": "code",
   "execution_count": 12,
   "metadata": {},
   "outputs": [
    {
     "data": {
      "text/plain": [
       "array([[ 31976,     85],\n",
       "       [  1007, 129959]], dtype=int64)"
      ]
     },
     "execution_count": 12,
     "metadata": {},
     "output_type": "execute_result"
    }
   ],
   "source": [
    "confusion_matrix(y_test, y_pred)"
   ]
  },
  {
   "cell_type": "markdown",
   "metadata": {},
   "source": [
    "### Eğitim tarihçesini inceliyelim."
   ]
  },
  {
   "cell_type": "code",
   "execution_count": 13,
   "metadata": {},
   "outputs": [],
   "source": [
    "y_hat = model.predict(X_test)"
   ]
  },
  {
   "cell_type": "code",
   "execution_count": 14,
   "metadata": {},
   "outputs": [
    {
     "data": {
      "image/png": "[encoded data removed]",
      "text/plain": [
       "<Figure size 432x288 with 1 Axes>"
      ]
     },
     "metadata": {
      "needs_background": "light"
     },
     "output_type": "display_data"
    }
   ],
   "source": [
    "plt.plot(history.history['acc'])\n",
    "plt.plot(history.history['val_acc'])\n",
    "plt.ylabel('dogruluk', fontsize=18)\n",
    "plt.xlabel('epoch', fontsize=18)\n",
    "plt.legend(['train', 'test'], loc='upper left')\n",
    "plt.show()"
   ]
  },
  {
   "cell_type": "markdown",
   "metadata": {},
   "source": [
    "### Kayıp fonksiyonunun değişimi"
   ]
  },
  {
   "cell_type": "code",
   "execution_count": 15,
   "metadata": {},
   "outputs": [
    {
     "data": {
      "image/png": "[encoded data removed]",
      "text/plain": [
       "<Figure size 432x288 with 1 Axes>"
      ]
     },
     "metadata": {
      "needs_background": "light"
     },
     "output_type": "display_data"
    }
   ],
   "source": [
    "plt.plot(history.history['loss'])\n",
    "plt.plot(history.history['val_loss'])\n",
    "\n",
    "plt.ylabel('kayip', fontsize=18)\n",
    "plt.xlabel('epoch', fontsize=18)\n",
    "plt.legend(['train', 'test'], loc='upper left')\n",
    "\n",
    "plt.show()"
   ]
  },
  {
   "cell_type": "markdown",
   "metadata": {},
   "source": [
    "## Model karmaşıklığını neuron ekleyerek artıralım"
   ]
  },
  {
   "cell_type": "code",
   "execution_count": 16,
   "metadata": {},
   "outputs": [
    {
     "name": "stdout",
     "output_type": "stream",
     "text": [
      "Train on 221765 samples, validate on 109228 samples\n",
      "Epoch 1/25\n",
      "221765/221765 [==============================] - 1s 3us/step - loss: 0.1236 - acc: 0.9779 - val_loss: 0.0407 - val_acc: 0.9881\n",
      "Epoch 2/25\n",
      "221765/221765 [==============================] - 0s 2us/step - loss: 0.0336 - acc: 0.9888 - val_loss: 0.0290 - val_acc: 0.9900\n",
      "Epoch 3/25\n",
      "221765/221765 [==============================] - 0s 2us/step - loss: 0.0268 - acc: 0.9906 - val_loss: 0.0251 - val_acc: 0.9910\n",
      "Epoch 4/25\n",
      "221765/221765 [==============================] - 1s 3us/step - loss: 0.0234 - acc: 0.9916 - val_loss: 0.0221 - val_acc: 0.9925\n",
      "Epoch 5/25\n",
      "221765/221765 [==============================] - 1s 2us/step - loss: 0.0207 - acc: 0.9924 - val_loss: 0.0195 - val_acc: 0.9926\n",
      "Epoch 6/25\n",
      "221765/221765 [==============================] - 0s 2us/step - loss: 0.0193 - acc: 0.9927 - val_loss: 0.0195 - val_acc: 0.9929\n",
      "Epoch 7/25\n",
      "221765/221765 [==============================] - 0s 2us/step - loss: 0.0189 - acc: 0.9929 - val_loss: 0.0186 - val_acc: 0.9931\n",
      "Epoch 8/25\n",
      "221765/221765 [==============================] - 1s 2us/step - loss: 0.0181 - acc: 0.9929 - val_loss: 0.0178 - val_acc: 0.9931\n",
      "Epoch 9/25\n",
      "221765/221765 [==============================] - 1s 2us/step - loss: 0.0173 - acc: 0.9930 - val_loss: 0.0171 - val_acc: 0.9932\n",
      "Epoch 10/25\n",
      "221765/221765 [==============================] - 1s 2us/step - loss: 0.0168 - acc: 0.9930 - val_loss: 0.0163 - val_acc: 0.9934\n",
      "Epoch 11/25\n",
      "221765/221765 [==============================] - 0s 2us/step - loss: 0.0159 - acc: 0.9931 - val_loss: 0.0161 - val_acc: 0.9931\n",
      "Epoch 12/25\n",
      "221765/221765 [==============================] - 0s 2us/step - loss: 0.0158 - acc: 0.9929 - val_loss: 0.0162 - val_acc: 0.9908\n",
      "Epoch 13/25\n",
      "221765/221765 [==============================] - 1s 3us/step - loss: 0.0155 - acc: 0.9936 - val_loss: 0.0148 - val_acc: 0.9974\n",
      "Epoch 14/25\n",
      "221765/221765 [==============================] - 1s 3us/step - loss: 0.0154 - acc: 0.9933 - val_loss: 0.0153 - val_acc: 0.9930\n",
      "Epoch 15/25\n",
      "221765/221765 [==============================] - 1s 3us/step - loss: 0.0149 - acc: 0.9941 - val_loss: 0.0149 - val_acc: 0.9943\n",
      "Epoch 16/25\n",
      "221765/221765 [==============================] - 1s 3us/step - loss: 0.0146 - acc: 0.9944 - val_loss: 0.0150 - val_acc: 0.9933\n",
      "Epoch 17/25\n",
      "221765/221765 [==============================] - 1s 3us/step - loss: 0.0145 - acc: 0.9939 - val_loss: 0.0138 - val_acc: 0.9957\n",
      "Epoch 18/25\n",
      "221765/221765 [==============================] - 1s 3us/step - loss: 0.0136 - acc: 0.9953 - val_loss: 0.0127 - val_acc: 0.9964\n",
      "Epoch 19/25\n",
      "221765/221765 [==============================] - 1s 3us/step - loss: 0.0139 - acc: 0.9941 - val_loss: 0.0141 - val_acc: 0.9935\n",
      "Epoch 20/25\n",
      "221765/221765 [==============================] - 1s 3us/step - loss: 0.0138 - acc: 0.9945 - val_loss: 0.0149 - val_acc: 0.9933\n",
      "Epoch 21/25\n",
      "221765/221765 [==============================] - 1s 3us/step - loss: 0.0143 - acc: 0.9936 - val_loss: 0.0131 - val_acc: 0.9960\n",
      "Epoch 22/25\n",
      "221765/221765 [==============================] - 1s 3us/step - loss: 0.0129 - acc: 0.9960 - val_loss: 0.0124 - val_acc: 0.9964\n",
      "Epoch 23/25\n",
      "221765/221765 [==============================] - 1s 3us/step - loss: 0.0122 - acc: 0.9963 - val_loss: 0.0132 - val_acc: 0.9950\n",
      "Epoch 24/25\n",
      "221765/221765 [==============================] - 1s 3us/step - loss: 0.0116 - acc: 0.9961 - val_loss: 0.0122 - val_acc: 0.9955\n",
      "Epoch 25/25\n",
      "221765/221765 [==============================] - 1s 3us/step - loss: 0.0116 - acc: 0.9958 - val_loss: 0.0133 - val_acc: 0.9949\n"
     ]
    }
   ],
   "source": [
    "model = Sequential()\n",
    "model.add(Dense(100, input_dim=X_train.shape[1], activation='sigmoid', kernel_initializer='uniform' ))\n",
    "model.add(Dense(1, activation='sigmoid', kernel_initializer='uniform'))\n",
    "model.compile(loss='binary_crossentropy', optimizer='Adam', metrics=['accuracy'])\n",
    "history = model.fit(X_train, y_train, epochs=25, batch_size=1024, verbose=1, validation_split=0.33)"
   ]
  },
  {
   "cell_type": "markdown",
   "metadata": {},
   "source": [
    "### Sınıflandırma performansı"
   ]
  },
  {
   "cell_type": "code",
   "execution_count": 17,
   "metadata": {},
   "outputs": [
    {
     "data": {
      "text/plain": [
       "'              precision    recall  f1-score   support\\n\\n           0       0.97      1.00      0.98     32061\\n           1       1.00      0.99      1.00    130966\\n\\n   micro avg       0.99      0.99      0.99    163027\\n   macro avg       0.98      0.99      0.99    163027\\nweighted avg       0.99      0.99      0.99    163027\\n'"
      ]
     },
     "execution_count": 17,
     "metadata": {},
     "output_type": "execute_result"
    }
   ],
   "source": [
    "y_hat = model.predict(X_test)\n",
    "classification_report(y_test, y_pred)"
   ]
  },
  {
   "cell_type": "code",
   "execution_count": 18,
   "metadata": {},
   "outputs": [
    {
     "data": {
      "text/plain": [
       "0.993301723027474"
      ]
     },
     "execution_count": 18,
     "metadata": {},
     "output_type": "execute_result"
    }
   ],
   "source": [
    "accuracy_score(y_test, y_pred)"
   ]
  },
  {
   "cell_type": "code",
   "execution_count": 19,
   "metadata": {},
   "outputs": [
    {
     "data": {
      "text/plain": [
       "array([[ 31976,     85],\n",
       "       [  1007, 129959]], dtype=int64)"
      ]
     },
     "execution_count": 19,
     "metadata": {},
     "output_type": "execute_result"
    }
   ],
   "source": [
    "confusion_matrix(y_test, y_pred)"
   ]
  },
  {
   "cell_type": "markdown",
   "metadata": {},
   "source": [
    "### Eğitim tarihçesi"
   ]
  },
  {
   "cell_type": "code",
   "execution_count": 20,
   "metadata": {},
   "outputs": [
    {
     "data": {
      "image/png": "[encoded data removed]",
      "text/plain": [
       "<Figure size 432x288 with 1 Axes>"
      ]
     },
     "metadata": {
      "needs_background": "light"
     },
     "output_type": "display_data"
    }
   ],
   "source": [
    "plt.plot(history.history['acc'])\n",
    "plt.plot(history.history['val_acc'])\n",
    "plt.ylabel('dogruluk', fontsize=18)\n",
    "plt.xlabel('epoch', fontsize=18)\n",
    "plt.legend(['train', 'test'], loc='upper left')\n",
    "plt.show()"
   ]
  },
  {
   "cell_type": "markdown",
   "metadata": {},
   "source": [
    "### Kayıp fonksiyon değişimi"
   ]
  },
  {
   "cell_type": "code",
   "execution_count": 21,
   "metadata": {},
   "outputs": [
    {
     "data": {
      "image/png": "[encoded data removed]",
      "text/plain": [
       "<Figure size 432x288 with 1 Axes>"
      ]
     },
     "metadata": {
      "needs_background": "light"
     },
     "output_type": "display_data"
    }
   ],
   "source": [
    "plt.plot(history.history['loss'])\n",
    "plt.plot(history.history['val_loss'])\n",
    "\n",
    "plt.ylabel('kayip', fontsize=18)\n",
    "plt.xlabel('epoch', fontsize=18)\n",
    "plt.legend(['train', 'test'], loc='upper left')\n",
    "\n",
    "plt.show()"
   ]
  },
  {
   "cell_type": "code",
   "execution_count": null,
   "metadata": {},
   "outputs": [],
   "source": []
  }
 ],
 "metadata": {
  "kernelspec": {
   "display_name": "Python 3",
   "language": "python",
   "name": "python3"
  },
  "language_info": {
   "codemirror_mode": {
    "name": "ipython",
    "version": 3
   },
   "file_extension": ".py",
   "mimetype": "text/x-python",
   "name": "python",
   "nbconvert_exporter": "python",
   "pygments_lexer": "ipython3",
   "version": "3.5.4"
  }
 },
 "nbformat": 4,
 "nbformat_minor": 2
}
