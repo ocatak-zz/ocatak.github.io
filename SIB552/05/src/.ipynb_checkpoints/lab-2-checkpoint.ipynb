{
 "cells": [
  {
   "cell_type": "markdown",
   "metadata": {},
   "source": [
    "# 6. Hafta Lab-2: Doğrusal SVM Karar Sınırları\n",
    "## SİB 552: Siber Güvenlik için Veri Madenciliği\n",
    "## Gebze Teknik Üni. - Bilgisayar Müh. - Siber Güvenlik Y.L.\n",
    "### Dr. Ferhat Özgür Çatak\n",
    "Bu lab çalışmasında doğrusal ayrıştırılabilir bir veri kümesinin SVM karar sınırlarınının $C$ parametresine göre değişimi incelenecektir."
   ]
  },
  {
   "cell_type": "code",
   "execution_count": 1,
   "metadata": {},
   "outputs": [],
   "source": [
    "import matplotlib.pyplot as plt\n",
    "from sklearn.model_selection import train_test_split\n",
    "from sklearn import datasets\n",
    "from sklearn import svm\n",
    "from sklearn.metrics import accuracy_score\n",
    "import numpy as np\n",
    "import pandas as pd"
   ]
  },
  {
   "cell_type": "markdown",
   "metadata": {},
   "source": [
    "Veri kümesi oluştur"
   ]
  },
  {
   "cell_type": "code",
   "execution_count": 2,
   "metadata": {},
   "outputs": [],
   "source": [
    "X, y = datasets.make_classification(n_samples=10000, n_features=50,\n",
    "                                    n_informative=5, n_redundant=2,\n",
    "                                    random_state=0)"
   ]
  },
  {
   "cell_type": "markdown",
   "metadata": {},
   "source": [
    "Eğitim ve test veri kümesi oluştur"
   ]
  },
  {
   "cell_type": "code",
   "execution_count": 3,
   "metadata": {},
   "outputs": [],
   "source": [
    "X_train, X_test, y_train, y_test = train_test_split(X, y, test_size=0.33, random_state=0)"
   ]
  },
  {
   "cell_type": "markdown",
   "metadata": {},
   "source": [
    "Farklı $C$ değerleri tanımlayalım"
   ]
  },
  {
   "cell_type": "code",
   "execution_count": 4,
   "metadata": {},
   "outputs": [
    {
     "data": {
      "text/plain": [
       "array([1.00000000e-03, 1.06210526e-01, 2.11421053e-01, 3.16631579e-01,\n",
       "       4.21842105e-01, 5.27052632e-01, 6.32263158e-01, 7.37473684e-01,\n",
       "       8.42684211e-01, 9.47894737e-01, 1.05310526e+00, 1.15831579e+00,\n",
       "       1.26352632e+00, 1.36873684e+00, 1.47394737e+00, 1.57915789e+00,\n",
       "       1.68436842e+00, 1.78957895e+00, 1.89478947e+00, 2.00000000e+00])"
      ]
     },
     "execution_count": 4,
     "metadata": {},
     "output_type": "execute_result"
    }
   ],
   "source": [
    "C_values = np.linspace(0.001, 2, num=20)\n",
    "acc_test = np.zeros(len(C_values))\n",
    "acc_train = np.zeros(len(C_values))\n",
    "C_values"
   ]
  },
  {
   "cell_type": "code",
   "execution_count": 5,
   "metadata": {},
   "outputs": [
    {
     "name": "stdout",
     "output_type": "stream",
     "text": [
      "Tamamlanan : % 100.0, C : 2.0478947368421041052631578945\r"
     ]
    }
   ],
   "source": [
    "for i in range(len(C_values)):\n",
    "    print('Tamamlanan : % {0}, C : {1}'.format((i+1)/len(C_values)*100,C_values[i]), end = '\\r',flush=False)\n",
    "    clf = svm.SVC(kernel='linear', C = C_values[i])\n",
    "    clf.fit(X_train, y_train)\n",
    "    y_pred_test = clf.predict(X_test)\n",
    "    acc_test[i] = accuracy_score(y_test, y_pred_test)\n",
    "    y_pred_train = clf.predict(X_train)\n",
    "    acc_train[i] = accuracy_score(y_train, y_pred_train)\n",
    "    \n"
   ]
  },
  {
   "cell_type": "code",
   "execution_count": 6,
   "metadata": {},
   "outputs": [
    {
     "data": {
      "text/html": [
       "<div>\n",
       "<style scoped>\n",
       "    .dataframe tbody tr th:only-of-type {\n",
       "        vertical-align: middle;\n",
       "    }\n",
       "\n",
       "    .dataframe tbody tr th {\n",
       "        vertical-align: top;\n",
       "    }\n",
       "\n",
       "    .dataframe thead th {\n",
       "        text-align: right;\n",
       "    }\n",
       "</style>\n",
       "<table border=\"1\" class=\"dataframe\">\n",
       "  <thead>\n",
       "    <tr style=\"text-align: right;\">\n",
       "      <th></th>\n",
       "      <th>C</th>\n",
       "      <th>Test</th>\n",
       "      <th>Train</th>\n",
       "    </tr>\n",
       "  </thead>\n",
       "  <tbody>\n",
       "    <tr>\n",
       "      <th>0</th>\n",
       "      <td>0.001000</td>\n",
       "      <td>0.850606</td>\n",
       "      <td>0.849104</td>\n",
       "    </tr>\n",
       "    <tr>\n",
       "      <th>1</th>\n",
       "      <td>0.106211</td>\n",
       "      <td>0.848182</td>\n",
       "      <td>0.852090</td>\n",
       "    </tr>\n",
       "    <tr>\n",
       "      <th>2</th>\n",
       "      <td>0.211421</td>\n",
       "      <td>0.847576</td>\n",
       "      <td>0.852090</td>\n",
       "    </tr>\n",
       "    <tr>\n",
       "      <th>3</th>\n",
       "      <td>0.316632</td>\n",
       "      <td>0.846970</td>\n",
       "      <td>0.851940</td>\n",
       "    </tr>\n",
       "    <tr>\n",
       "      <th>4</th>\n",
       "      <td>0.421842</td>\n",
       "      <td>0.847576</td>\n",
       "      <td>0.851940</td>\n",
       "    </tr>\n",
       "    <tr>\n",
       "      <th>5</th>\n",
       "      <td>0.527053</td>\n",
       "      <td>0.846970</td>\n",
       "      <td>0.851940</td>\n",
       "    </tr>\n",
       "    <tr>\n",
       "      <th>6</th>\n",
       "      <td>0.632263</td>\n",
       "      <td>0.847273</td>\n",
       "      <td>0.851940</td>\n",
       "    </tr>\n",
       "    <tr>\n",
       "      <th>7</th>\n",
       "      <td>0.737474</td>\n",
       "      <td>0.846970</td>\n",
       "      <td>0.851940</td>\n",
       "    </tr>\n",
       "    <tr>\n",
       "      <th>8</th>\n",
       "      <td>0.842684</td>\n",
       "      <td>0.847273</td>\n",
       "      <td>0.851940</td>\n",
       "    </tr>\n",
       "    <tr>\n",
       "      <th>9</th>\n",
       "      <td>0.947895</td>\n",
       "      <td>0.847576</td>\n",
       "      <td>0.851940</td>\n",
       "    </tr>\n",
       "    <tr>\n",
       "      <th>10</th>\n",
       "      <td>1.053105</td>\n",
       "      <td>0.847273</td>\n",
       "      <td>0.851791</td>\n",
       "    </tr>\n",
       "    <tr>\n",
       "      <th>11</th>\n",
       "      <td>1.158316</td>\n",
       "      <td>0.847576</td>\n",
       "      <td>0.851940</td>\n",
       "    </tr>\n",
       "    <tr>\n",
       "      <th>12</th>\n",
       "      <td>1.263526</td>\n",
       "      <td>0.847273</td>\n",
       "      <td>0.851791</td>\n",
       "    </tr>\n",
       "    <tr>\n",
       "      <th>13</th>\n",
       "      <td>1.368737</td>\n",
       "      <td>0.847576</td>\n",
       "      <td>0.851493</td>\n",
       "    </tr>\n",
       "    <tr>\n",
       "      <th>14</th>\n",
       "      <td>1.473947</td>\n",
       "      <td>0.846970</td>\n",
       "      <td>0.851940</td>\n",
       "    </tr>\n",
       "    <tr>\n",
       "      <th>15</th>\n",
       "      <td>1.579158</td>\n",
       "      <td>0.846970</td>\n",
       "      <td>0.851940</td>\n",
       "    </tr>\n",
       "    <tr>\n",
       "      <th>16</th>\n",
       "      <td>1.684368</td>\n",
       "      <td>0.846970</td>\n",
       "      <td>0.851940</td>\n",
       "    </tr>\n",
       "    <tr>\n",
       "      <th>17</th>\n",
       "      <td>1.789579</td>\n",
       "      <td>0.847273</td>\n",
       "      <td>0.851791</td>\n",
       "    </tr>\n",
       "    <tr>\n",
       "      <th>18</th>\n",
       "      <td>1.894789</td>\n",
       "      <td>0.846970</td>\n",
       "      <td>0.851940</td>\n",
       "    </tr>\n",
       "    <tr>\n",
       "      <th>19</th>\n",
       "      <td>2.000000</td>\n",
       "      <td>0.847273</td>\n",
       "      <td>0.851642</td>\n",
       "    </tr>\n",
       "  </tbody>\n",
       "</table>\n",
       "</div>"
      ],
      "text/plain": [
       "           C      Test     Train\n",
       "0   0.001000  0.850606  0.849104\n",
       "1   0.106211  0.848182  0.852090\n",
       "2   0.211421  0.847576  0.852090\n",
       "3   0.316632  0.846970  0.851940\n",
       "4   0.421842  0.847576  0.851940\n",
       "5   0.527053  0.846970  0.851940\n",
       "6   0.632263  0.847273  0.851940\n",
       "7   0.737474  0.846970  0.851940\n",
       "8   0.842684  0.847273  0.851940\n",
       "9   0.947895  0.847576  0.851940\n",
       "10  1.053105  0.847273  0.851791\n",
       "11  1.158316  0.847576  0.851940\n",
       "12  1.263526  0.847273  0.851791\n",
       "13  1.368737  0.847576  0.851493\n",
       "14  1.473947  0.846970  0.851940\n",
       "15  1.579158  0.846970  0.851940\n",
       "16  1.684368  0.846970  0.851940\n",
       "17  1.789579  0.847273  0.851791\n",
       "18  1.894789  0.846970  0.851940\n",
       "19  2.000000  0.847273  0.851642"
      ]
     },
     "execution_count": 6,
     "metadata": {},
     "output_type": "execute_result"
    }
   ],
   "source": [
    "df = pd.DataFrame({\"C\":C_values,\"Test\":acc_test,\"Train\":acc_train})\n",
    "df"
   ]
  },
  {
   "cell_type": "code",
   "execution_count": 8,
   "metadata": {},
   "outputs": [
    {
     "data": {
      "text/plain": [
       "[<matplotlib.lines.Line2D at 0x2146e99f898>]"
      ]
     },
     "execution_count": 8,
     "metadata": {},
     "output_type": "execute_result"
    },
    {
     "data": {
      "image/png": "[encoded data removed]",
      "text/plain": [
       "<Figure size 432x288 with 1 Axes>"
      ]
     },
     "metadata": {
      "needs_background": "light"
     },
     "output_type": "display_data"
    }
   ],
   "source": [
    "results = df.values\n",
    "plt.plot(results[:,0],results[:,1],'k-')\n",
    "plt.plot(results[:,0],results[:,2],'b-')"
   ]
  },
  {
   "cell_type": "code",
   "execution_count": null,
   "metadata": {},
   "outputs": [],
   "source": []
  }
 ],
 "metadata": {
  "kernelspec": {
   "display_name": "Python 3",
   "language": "python",
   "name": "python3"
  },
  "language_info": {
   "codemirror_mode": {
    "name": "ipython",
    "version": 3
   },
   "file_extension": ".py",
   "mimetype": "text/x-python",
   "name": "python",
   "nbconvert_exporter": "python",
   "pygments_lexer": "ipython3",
   "version": "3.6.7"
  }
 },
 "nbformat": 4,
 "nbformat_minor": 2
}
