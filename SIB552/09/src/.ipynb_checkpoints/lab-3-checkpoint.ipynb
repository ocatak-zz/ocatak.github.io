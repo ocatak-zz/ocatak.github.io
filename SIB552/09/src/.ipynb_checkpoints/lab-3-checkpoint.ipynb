{
 "cells": [
  {
   "cell_type": "markdown",
   "metadata": {},
   "source": [
    "# 10. Hafta Lab-3: LSTM Sınıflandırma\n",
    "## BGM 565: Siber Güvenlik için Makine Öğrenme Yöntemleri\n",
    "### İstanbul Şehir Üni. - Bilgi Güvenliği Müh.\n",
    "#### Dr. Ferhat Özgür Çatak\n",
    "Bu lab çalışması kapsamında lab-1'de kullanılan dökümanların **tf-idf** matrisi yerine lstm algoritması ile sınıflandırma modeli oluşturulacaktır."
   ]
  },
  {
   "cell_type": "code",
   "execution_count": 1,
   "metadata": {},
   "outputs": [
    {
     "name": "stderr",
     "output_type": "stream",
     "text": [
      "Using TensorFlow backend.\n"
     ]
    }
   ],
   "source": [
    "from urllib import request\n",
    "from bs4 import BeautifulSoup\n",
    "import numpy as np\n",
    "\n",
    "from keras.preprocessing.text import one_hot\n",
    "from keras.preprocessing.sequence import pad_sequences\n",
    "\n",
    "from keras.models import Sequential\n",
    "from keras.layers import Dense,Dropout\n",
    "from keras.layers import Flatten\n",
    "from keras.layers.embeddings import Embedding\n",
    "from sklearn.metrics import confusion_matrix\n",
    "\n",
    "import matplotlib.pyplot as plt"
   ]
  },
  {
   "cell_type": "markdown",
   "metadata": {},
   "source": [
    "## Internet üzerinde bulunan ekonomi ve spor haberlerinin sınıflandırılması\n",
    "Bu çalışmada 11 ekonomi ve 11 spor haberi Internet üzerinde alınacaktır. HTML ve javasript etiketlerinin temizlenmesinden sonra derlem oluşturulmaktadır."
   ]
  },
  {
   "cell_type": "code",
   "execution_count": 2,
   "metadata": {},
   "outputs": [],
   "source": [
    "urls = [\"http://www.bloomberght.com/yorum/cuneyt-basaran/2093520-uyuyan-dev-uyandi\",\n",
    "                \"http://www.bloomberght.com/yorum/ali-cagataygelecege-bakis/2116104-fifa-goreve\",\n",
    "                \"http://www.bloomberght.com/yorum/ahmet-oz/2075832-kisir-donguye-mi-giriyoruz\",\n",
    "                \"http://www.bloomberght.com/yorum/gizem-oztok-altinsac/2113416-turkiyenin-ekonomi-sinavi\",\n",
    "                \"http://www.bloomberght.com/yorum/ceren-dilekci/2115924-megabank-muammasi\",\n",
    "                \"http://www.bloomberght.com/ht-yazarlar/cuneyt-basaran-2071/2116920-paketin-harcama-kalemleri\",\n",
    "                \"http://www.bloomberght.com/ht-yazarlar/gokhan-sen/2079777-merkez-bankasina-sanatci-ruhu-gerekiyor\",\n",
    "                \"http://www.bloomberght.com/ht-yazarlar/abdurrahman-yildirim/2116917-10-yil-once-serbest-10-yil-sonra-yasak\",\n",
    "                \"http://www.bloomberght.com/ht-yazarlar/guntay-simsek/2116923-ihracatta-rekor-ithalatta-rekor-her-taraf-rekor\",\n",
    "                \"http://spor.mynet.com/futbol/sampiyonlar-ligi/157184-jerome-boateng-den-cuneyt-cakir-a-elestiri.html\",\n",
    "                \"http://www.hurriyet.com.tr/ekonomi/ihracat-nisan-ayinda-13-5-milyar-dolar-oldu-40822367\",\n",
    "                \"http://ekonomi.haber7.com/ekonomi/haber/2614392-borcu-olanlar-dikkat-18-ay-taksit-yapilacak/?detay=1\",\n",
    "             \"http://spor.mynet.com/fenerbahce/157181-giuliano-dan-aykut-kocaman-a-ovgu.html\",\n",
    "             \"http://spor.mynet.com/galatasaray/157176-kaderi-degistiren-kebapcidaki-kavga.html\",\n",
    "             \"http://spor.mynet.com/fenerbahce/157175-aziz-yildirim-in-secim-kozu.html\",\n",
    "             \"http://spor.mynet.com/fenerbahce/157174-aykut-kocaman-dan-besiktas-iddiasi.html\",\n",
    "             \"http://spor.mynet.com/basketbol/thy-euro-league/157173-fenerbahce-de-buyuk-surpriz.html\",\n",
    "             \"http://spor.mynet.com/futbol/sampiyonlar-ligi/157170-mac-ozeti-real-madrid-2-2-bayern-munih-golleri-izle-cuneyt-cakir-penalti-izle.html\",\n",
    "             \"http://spor.mynet.com/ingiltere/157168-cenk-tosun-icin-carpici-yorum-hayatta-kalmayi-basardi.html\",\n",
    "             \"http://spor.mynet.com/besiktas/157129-besiktas-ta-atiba-nin-yerine-abdullahi-shehu.html\",\n",
    "             \"http://www.hurriyet.com.tr/sporarena/besiktastan-olayli-fenerbahce-derbisi-kararina-itiraz-40822811\",\n",
    "             \"http://www.hurriyet.com.tr/sporarena/devler-liginde-ilk-finalist-real-madrid-40822363\"]\n"
   ]
  },
  {
   "cell_type": "code",
   "execution_count": 3,
   "metadata": {},
   "outputs": [],
   "source": [
    "docs = []\n",
    "for url in urls:\n",
    "    response = request.urlopen(url)\n",
    "    raw = response.read().decode('utf8')\n",
    "    soup = BeautifulSoup(raw, \"lxml\")\n",
    "    [x.extract() for x in soup.findAll(['script', 'style'])]\n",
    "    raw = soup.get_text().strip().replace(\"\\n\", \" \").lower()\n",
    "    for i in range(100):\n",
    "        raw = raw.replace(\"  \",\" \")\n",
    "    docs.append(raw)"
   ]
  },
  {
   "cell_type": "code",
   "execution_count": 4,
   "metadata": {},
   "outputs": [],
   "source": [
    "y = np.concatenate((np.zeros(11), np.ones(11)))"
   ]
  },
  {
   "cell_type": "markdown",
   "metadata": {},
   "source": [
    "**one_hot** encoding yöntemi kullanılarak her bir kelime *integer encoding* oluşturulacaktır."
   ]
  },
  {
   "cell_type": "code",
   "execution_count": 5,
   "metadata": {},
   "outputs": [
    {
     "name": "stdout",
     "output_type": "stream",
     "text": [
      "cüneyt başaran - uyuyan dev uyandı - bloomberg ht menü tv piyasalar haberler tarım fintech enerji ek\n",
      "[35324, 93057, 52992, 9086, 51065, 81722, 41469, 16658, 67862, 63063]\n"
     ]
    }
   ],
   "source": [
    "vocab_size = 100000\n",
    "encoded_docs = [one_hot(d, vocab_size) for d in docs]\n",
    "print(docs[0][0:100])\n",
    "print(encoded_docs[0][0:10])"
   ]
  },
  {
   "cell_type": "code",
   "execution_count": 6,
   "metadata": {},
   "outputs": [],
   "source": [
    "max_length = 4500\n",
    "padded_docs = pad_sequences(encoded_docs, maxlen=max_length, padding='post')"
   ]
  },
  {
   "cell_type": "code",
   "execution_count": 7,
   "metadata": {},
   "outputs": [
    {
     "name": "stdout",
     "output_type": "stream",
     "text": [
      "WARNING:tensorflow:From c:\\users\\ozgur\\appdata\\local\\programs\\python\\python35\\lib\\site-packages\\tensorflow\\python\\framework\\op_def_library.py:263: colocate_with (from tensorflow.python.framework.ops) is deprecated and will be removed in a future version.\n",
      "Instructions for updating:\n",
      "Colocations handled automatically by placer.\n",
      "_________________________________________________________________\n",
      "Layer (type)                 Output Shape              Param #   \n",
      "=================================================================\n",
      "embedding_1 (Embedding)      (None, 4500, 50)          5000000   \n",
      "_________________________________________________________________\n",
      "flatten_1 (Flatten)          (None, 225000)            0         \n",
      "_________________________________________________________________\n",
      "dense_1 (Dense)              (None, 1)                 225001    \n",
      "=================================================================\n",
      "Total params: 5,225,001\n",
      "Trainable params: 5,225,001\n",
      "Non-trainable params: 0\n",
      "_________________________________________________________________\n",
      "None\n",
      "WARNING:tensorflow:From c:\\users\\ozgur\\appdata\\local\\programs\\python\\python35\\lib\\site-packages\\tensorflow\\python\\ops\\math_ops.py:3066: to_int32 (from tensorflow.python.ops.math_ops) is deprecated and will be removed in a future version.\n",
      "Instructions for updating:\n",
      "Use tf.cast instead.\n",
      "Train on 17 samples, validate on 5 samples\n",
      "Epoch 1/50\n",
      "17/17 [==============================] - 1s 38ms/step - loss: 0.6842 - acc: 0.9412 - val_loss: 4.5100 - val_acc: 0.0000e+00\n",
      "Epoch 2/50\n",
      "17/17 [==============================] - 0s 5ms/step - loss: 1.4754 - acc: 0.6471 - val_loss: 2.3072 - val_acc: 0.0000e+00\n",
      "Epoch 3/50\n",
      "17/17 [==============================] - 0s 4ms/step - loss: 0.6188 - acc: 0.6471 - val_loss: 0.3171 - val_acc: 1.0000\n",
      "Epoch 4/50\n",
      "17/17 [==============================] - 0s 4ms/step - loss: 0.5221 - acc: 0.7059 - val_loss: 0.1770 - val_acc: 1.0000\n",
      "Epoch 5/50\n",
      "17/17 [==============================] - 0s 4ms/step - loss: 0.6409 - acc: 0.5294 - val_loss: 0.4202 - val_acc: 1.0000\n",
      "Epoch 6/50\n",
      "17/17 [==============================] - 0s 6ms/step - loss: 0.2800 - acc: 0.8824 - val_loss: 1.1549 - val_acc: 0.0000e+00\n",
      "Epoch 7/50\n",
      "17/17 [==============================] - 0s 5ms/step - loss: 0.1317 - acc: 1.0000 - val_loss: 2.0858 - val_acc: 0.0000e+00\n",
      "Epoch 8/50\n",
      "17/17 [==============================] - 0s 4ms/step - loss: 0.1770 - acc: 0.9412 - val_loss: 2.6326 - val_acc: 0.0000e+00\n",
      "Epoch 9/50\n",
      "17/17 [==============================] - 0s 4ms/step - loss: 0.2078 - acc: 0.9412 - val_loss: 2.6494 - val_acc: 0.0000e+00\n",
      "Epoch 10/50\n",
      "17/17 [==============================] - 0s 4ms/step - loss: 0.1558 - acc: 1.0000 - val_loss: 2.3146 - val_acc: 0.0000e+00\n",
      "Epoch 11/50\n",
      "17/17 [==============================] - 0s 4ms/step - loss: 0.0814 - acc: 1.0000 - val_loss: 1.8666 - val_acc: 0.0000e+00\n",
      "Epoch 12/50\n",
      "17/17 [==============================] - 0s 5ms/step - loss: 0.0373 - acc: 1.0000 - val_loss: 1.4534 - val_acc: 0.0000e+00\n",
      "Epoch 13/50\n",
      "17/17 [==============================] - 0s 4ms/step - loss: 0.0203 - acc: 1.0000 - val_loss: 1.1262 - val_acc: 0.4000\n",
      "Epoch 14/50\n",
      "17/17 [==============================] - 0s 4ms/step - loss: 0.0155 - acc: 1.0000 - val_loss: 0.8862 - val_acc: 0.4000\n",
      "Epoch 15/50\n",
      "17/17 [==============================] - 0s 4ms/step - loss: 0.0150 - acc: 1.0000 - val_loss: 0.7180 - val_acc: 0.6000\n",
      "Epoch 16/50\n",
      "17/17 [==============================] - 0s 4ms/step - loss: 0.0154 - acc: 1.0000 - val_loss: 0.6038 - val_acc: 0.6000\n",
      "Epoch 17/50\n",
      "17/17 [==============================] - 0s 4ms/step - loss: 0.0156 - acc: 1.0000 - val_loss: 0.5287 - val_acc: 0.6000\n",
      "Epoch 18/50\n",
      "17/17 [==============================] - 0s 4ms/step - loss: 0.0149 - acc: 1.0000 - val_loss: 0.4815 - val_acc: 0.6000\n",
      "Epoch 19/50\n",
      "17/17 [==============================] - 0s 4ms/step - loss: 0.0135 - acc: 1.0000 - val_loss: 0.4541 - val_acc: 0.6000\n",
      "Epoch 20/50\n",
      "17/17 [==============================] - 0s 4ms/step - loss: 0.0117 - acc: 1.0000 - val_loss: 0.4409 - val_acc: 0.6000\n",
      "Epoch 21/50\n",
      "17/17 [==============================] - 0s 4ms/step - loss: 0.0097 - acc: 1.0000 - val_loss: 0.4379 - val_acc: 0.6000\n",
      "Epoch 22/50\n",
      "17/17 [==============================] - 0s 5ms/step - loss: 0.0078 - acc: 1.0000 - val_loss: 0.4423 - val_acc: 0.6000\n",
      "Epoch 23/50\n",
      "17/17 [==============================] - 0s 4ms/step - loss: 0.0062 - acc: 1.0000 - val_loss: 0.4520 - val_acc: 0.6000\n",
      "Epoch 24/50\n",
      "17/17 [==============================] - 0s 4ms/step - loss: 0.0049 - acc: 1.0000 - val_loss: 0.4655 - val_acc: 0.6000\n",
      "Epoch 25/50\n",
      "17/17 [==============================] - 0s 4ms/step - loss: 0.0039 - acc: 1.0000 - val_loss: 0.4817 - val_acc: 0.6000\n",
      "Epoch 26/50\n",
      "17/17 [==============================] - 0s 4ms/step - loss: 0.0031 - acc: 1.0000 - val_loss: 0.4997 - val_acc: 0.6000\n",
      "Epoch 27/50\n",
      "17/17 [==============================] - 0s 4ms/step - loss: 0.0025 - acc: 1.0000 - val_loss: 0.5190 - val_acc: 0.6000\n",
      "Epoch 28/50\n",
      "17/17 [==============================] - 0s 4ms/step - loss: 0.0020 - acc: 1.0000 - val_loss: 0.5390 - val_acc: 0.6000\n",
      "Epoch 29/50\n",
      "17/17 [==============================] - 0s 4ms/step - loss: 0.0016 - acc: 1.0000 - val_loss: 0.5594 - val_acc: 0.6000\n",
      "Epoch 30/50\n",
      "17/17 [==============================] - 0s 5ms/step - loss: 0.0013 - acc: 1.0000 - val_loss: 0.5798 - val_acc: 0.6000\n",
      "Epoch 31/50\n",
      "17/17 [==============================] - 0s 4ms/step - loss: 0.0011 - acc: 1.0000 - val_loss: 0.6000 - val_acc: 0.6000\n",
      "Epoch 32/50\n",
      "17/17 [==============================] - 0s 4ms/step - loss: 9.5858e-04 - acc: 1.0000 - val_loss: 0.6198 - val_acc: 0.6000\n",
      "Epoch 33/50\n",
      "17/17 [==============================] - 0s 5ms/step - loss: 8.2277e-04 - acc: 1.0000 - val_loss: 0.6392 - val_acc: 0.6000\n",
      "Epoch 34/50\n",
      "17/17 [==============================] - 0s 4ms/step - loss: 7.1406e-04 - acc: 1.0000 - val_loss: 0.6580 - val_acc: 0.6000\n",
      "Epoch 35/50\n",
      "17/17 [==============================] - 0s 5ms/step - loss: 6.2632e-04 - acc: 1.0000 - val_loss: 0.6761 - val_acc: 0.6000\n",
      "Epoch 36/50\n",
      "17/17 [==============================] - 0s 5ms/step - loss: 5.5479e-04 - acc: 1.0000 - val_loss: 0.6936 - val_acc: 0.6000\n",
      "Epoch 37/50\n",
      "17/17 [==============================] - 0s 5ms/step - loss: 4.9604e-04 - acc: 1.0000 - val_loss: 0.7103 - val_acc: 0.6000\n",
      "Epoch 38/50\n",
      "17/17 [==============================] - 0s 4ms/step - loss: 4.4736e-04 - acc: 1.0000 - val_loss: 0.7263 - val_acc: 0.6000\n",
      "Epoch 39/50\n",
      "17/17 [==============================] - 0s 4ms/step - loss: 4.0668e-04 - acc: 1.0000 - val_loss: 0.7415 - val_acc: 0.6000\n",
      "Epoch 40/50\n",
      "17/17 [==============================] - 0s 4ms/step - loss: 3.7245e-04 - acc: 1.0000 - val_loss: 0.7560 - val_acc: 0.6000\n",
      "Epoch 41/50\n",
      "17/17 [==============================] - 0s 4ms/step - loss: 3.4347e-04 - acc: 1.0000 - val_loss: 0.7698 - val_acc: 0.6000\n",
      "Epoch 42/50\n",
      "17/17 [==============================] - 0s 4ms/step - loss: 3.1878e-04 - acc: 1.0000 - val_loss: 0.7829 - val_acc: 0.6000\n",
      "Epoch 43/50\n",
      "17/17 [==============================] - 0s 4ms/step - loss: 2.9758e-04 - acc: 1.0000 - val_loss: 0.7952 - val_acc: 0.6000\n",
      "Epoch 44/50\n",
      "17/17 [==============================] - 0s 4ms/step - loss: 2.7926e-04 - acc: 1.0000 - val_loss: 0.8070 - val_acc: 0.6000\n",
      "Epoch 45/50\n",
      "17/17 [==============================] - 0s 4ms/step - loss: 2.6340e-04 - acc: 1.0000 - val_loss: 0.8181 - val_acc: 0.6000\n",
      "Epoch 46/50\n",
      "17/17 [==============================] - 0s 5ms/step - loss: 2.4956e-04 - acc: 1.0000 - val_loss: 0.8286 - val_acc: 0.6000\n",
      "Epoch 47/50\n",
      "17/17 [==============================] - 0s 4ms/step - loss: 2.3742e-04 - acc: 1.0000 - val_loss: 0.8385 - val_acc: 0.6000\n",
      "Epoch 48/50\n",
      "17/17 [==============================] - 0s 5ms/step - loss: 2.2677e-04 - acc: 1.0000 - val_loss: 0.8479 - val_acc: 0.6000\n",
      "Epoch 49/50\n",
      "17/17 [==============================] - 0s 5ms/step - loss: 2.1732e-04 - acc: 1.0000 - val_loss: 0.8568 - val_acc: 0.6000\n",
      "Epoch 50/50\n",
      "17/17 [==============================] - 0s 4ms/step - loss: 2.0896e-04 - acc: 1.0000 - val_loss: 0.8652 - val_acc: 0.6000\n"
     ]
    }
   ],
   "source": [
    "# define the model\n",
    "model = Sequential()\n",
    "model.add(Embedding(vocab_size, 50, input_length=max_length))\n",
    "model.add(Flatten())\n",
    "model.add(Dense(1, activation='sigmoid'))\n",
    "# compile the model\n",
    "model.compile(optimizer='adam', loss='binary_crossentropy', metrics=['acc'])\n",
    "# summarize the model\n",
    "print(model.summary())\n",
    "\n",
    "# fit the model\n",
    "history = model.fit(padded_docs, y, epochs=50, verbose=1, validation_split=0.2)\n"
   ]
  },
  {
   "cell_type": "code",
   "execution_count": 8,
   "metadata": {},
   "outputs": [
    {
     "name": "stdout",
     "output_type": "stream",
     "text": [
      "[[11  0]\n",
      " [ 2  9]]\n"
     ]
    }
   ],
   "source": [
    "y_hat = model.predict_classes(padded_docs)\n",
    "cm = confusion_matrix(y, y_hat)\n",
    "print(cm)\n"
   ]
  },
  {
   "cell_type": "code",
   "execution_count": 9,
   "metadata": {},
   "outputs": [
    {
     "data": {
      "image/png": "[encoded data removed]",
      "text/plain": [
       "<Figure size 432x288 with 1 Axes>"
      ]
     },
     "metadata": {
      "needs_background": "light"
     },
     "output_type": "display_data"
    },
    {
     "data": {
      "image/png": "[encoded data removed]",
      "text/plain": [
       "<Figure size 432x288 with 1 Axes>"
      ]
     },
     "metadata": {
      "needs_background": "light"
     },
     "output_type": "display_data"
    }
   ],
   "source": [
    "\n",
    "plt.plot(history.history['acc'])\n",
    "plt.plot(history.history['val_acc'])\n",
    "plt.ylabel('dogruluk', fontsize=18)\n",
    "plt.xlabel('epoch', fontsize=18)\n",
    "plt.legend(['train', 'test'], loc='upper left')\n",
    "plt.show()\n",
    "\n",
    "plt.plot(history.history['loss'])\n",
    "plt.plot(history.history['val_loss'])\n",
    "\n",
    "plt.ylabel('kayip', fontsize=18)\n",
    "plt.xlabel('epoch', fontsize=18)\n",
    "plt.legend(['train', 'test'], loc='upper left')\n",
    "\n",
    "plt.show()"
   ]
  },
  {
   "cell_type": "code",
   "execution_count": null,
   "metadata": {},
   "outputs": [],
   "source": []
  }
 ],
 "metadata": {
  "kernelspec": {
   "display_name": "Python 3",
   "language": "python",
   "name": "python3"
  },
  "language_info": {
   "codemirror_mode": {
    "name": "ipython",
    "version": 3
   },
   "file_extension": ".py",
   "mimetype": "text/x-python",
   "name": "python",
   "nbconvert_exporter": "python",
   "pygments_lexer": "ipython3",
   "version": "3.5.4"
  }
 },
 "nbformat": 4,
 "nbformat_minor": 2
}
