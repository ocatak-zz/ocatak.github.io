{
 "cells": [
  {
   "cell_type": "markdown",
   "metadata": {},
   "source": [
    "# 10. Hafta Lab-1: TF-IDF\n",
    "## BGM 565: Siber Güvenlik için Makine Öğrenme Yöntemleri\n",
    "### İstanbul Şehir Üni. - Bilgi Güvenliği Müh.\n",
    "#### Dr. Ferhat Özgür Çatak\n",
    "Bu lab çalışması kapsamında dökümanlardan **tf-idf** matrisi oluşturulacaktır."
   ]
  },
  {
   "cell_type": "code",
   "execution_count": 1,
   "metadata": {},
   "outputs": [],
   "source": [
    "from sklearn.feature_extraction.text import CountVectorizer\n",
    "from sklearn.feature_extraction.text import TfidfVectorizer\n",
    "from bs4 import BeautifulSoup\n",
    "from urllib import request\n",
    "from sklearn.svm import SVC\n",
    "from sklearn.metrics import confusion_matrix\n",
    "import numpy as np\n",
    "\n",
    "np.set_printoptions(linewidth=160)"
   ]
  },
  {
   "cell_type": "markdown",
   "metadata": {},
   "source": [
    "### Örnek bir derlem olsun. 5 adet farklı dokumandan oluşan bir küme"
   ]
  },
  {
   "cell_type": "code",
   "execution_count": 2,
   "metadata": {},
   "outputs": [],
   "source": [
    "corpus = [\"Elma Portakal Portakal Elma\",\n",
    "          \"Elma Muz Elma Muz\",\n",
    "          \"Muz Elma Muz Muz Muz Elma\",\n",
    "          \"Muz Portakal Muz Muz Portakal Muz\",\n",
    "          \"Muz Elma Muz Muz Portakal Muz\"]"
   ]
  },
  {
   "cell_type": "markdown",
   "metadata": {},
   "source": [
    "### Bu derlem için sözlük oluşturup kelime frekanslarını sayalım"
   ]
  },
  {
   "cell_type": "code",
   "execution_count": 3,
   "metadata": {},
   "outputs": [
    {
     "name": "stdout",
     "output_type": "stream",
     "text": [
      "{'portakal': 2, 'elma': 0, 'muz': 1}\n",
      "  (0, 2)\t2\n",
      "  (0, 0)\t2\n",
      "  (1, 1)\t2\n",
      "  (1, 0)\t2\n",
      "  (2, 1)\t4\n",
      "  (2, 0)\t2\n",
      "  (3, 1)\t4\n",
      "  (3, 2)\t2\n",
      "  (4, 1)\t4\n",
      "  (4, 2)\t1\n",
      "  (4, 0)\t1\n"
     ]
    }
   ],
   "source": [
    "vectorizer = CountVectorizer()\n",
    "vocab_freq = vectorizer.fit_transform(corpus)\n",
    "print(vectorizer.vocabulary_)\n",
    "print(vocab_freq)"
   ]
  },
  {
   "cell_type": "markdown",
   "metadata": {},
   "source": [
    "#### Frekansların olduğu *vocab_freq* değişkeni *sparse* bir matrisdir. Bunu *dense* halke getirelim."
   ]
  },
  {
   "cell_type": "code",
   "execution_count": 4,
   "metadata": {},
   "outputs": [
    {
     "name": "stdout",
     "output_type": "stream",
     "text": [
      "[[2 0 2]\n",
      " [2 2 0]\n",
      " [2 4 0]\n",
      " [0 4 2]\n",
      " [1 4 1]]\n"
     ]
    }
   ],
   "source": [
    "print(vocab_freq.todense())"
   ]
  },
  {
   "cell_type": "markdown",
   "metadata": {},
   "source": [
    "## TF-IDF matrisinin oluşturulması"
   ]
  },
  {
   "cell_type": "code",
   "execution_count": 5,
   "metadata": {},
   "outputs": [
    {
     "data": {
      "text/plain": [
       "matrix([[0.64374446, 0.        , 0.76524053],\n",
       "        [0.70710678, 0.70710678, 0.        ],\n",
       "        [0.4472136 , 0.89442719, 0.        ],\n",
       "        [0.        , 0.85962194, 0.51093065],\n",
       "        [0.23304334, 0.93217336, 0.2770264 ]])"
      ]
     },
     "execution_count": 5,
     "metadata": {},
     "output_type": "execute_result"
    }
   ],
   "source": [
    "vectorizer = TfidfVectorizer()\n",
    "vectorizer.fit(corpus)\n",
    "corpus_vec = vectorizer.transform(corpus).todense()\n",
    "corpus_vec"
   ]
  },
  {
   "cell_type": "markdown",
   "metadata": {},
   "source": [
    "### Derlemde yer alan kelimelerin idf değerleri"
   ]
  },
  {
   "cell_type": "code",
   "execution_count": 6,
   "metadata": {},
   "outputs": [
    {
     "name": "stdout",
     "output_type": "stream",
     "text": [
      "{'portakal': 2, 'elma': 0, 'muz': 1}\n",
      "[1.18232156 1.18232156 1.40546511]\n"
     ]
    }
   ],
   "source": [
    "print(vectorizer.vocabulary_)\n",
    "print(vectorizer.idf_)"
   ]
  },
  {
   "cell_type": "markdown",
   "metadata": {},
   "source": [
    "## Internet üzerinde bulunan ekonomi ve spor haberlerinin sınıflandırılması\n",
    "Bu çalışmada 11 ekonomi ve 11 spor haberi Internet üzerinde alınacaktır. HTML ve javasript etiketlerinin temizlenmesinden sonra derlem oluşturulmaktadır."
   ]
  },
  {
   "cell_type": "code",
   "execution_count": 7,
   "metadata": {},
   "outputs": [],
   "source": [
    "urls = [\"http://www.bloomberght.com/yorum/cuneyt-basaran/2093520-uyuyan-dev-uyandi\",\n",
    "                \"http://www.bloomberght.com/yorum/ali-cagataygelecege-bakis/2116104-fifa-goreve\",\n",
    "                \"http://www.bloomberght.com/yorum/ahmet-oz/2075832-kisir-donguye-mi-giriyoruz\",\n",
    "                \"http://www.bloomberght.com/yorum/gizem-oztok-altinsac/2113416-turkiyenin-ekonomi-sinavi\",\n",
    "                \"http://www.bloomberght.com/yorum/ceren-dilekci/2115924-megabank-muammasi\",\n",
    "                \"http://www.bloomberght.com/ht-yazarlar/cuneyt-basaran-2071/2116920-paketin-harcama-kalemleri\",\n",
    "                \"http://www.bloomberght.com/ht-yazarlar/gokhan-sen/2079777-merkez-bankasina-sanatci-ruhu-gerekiyor\",\n",
    "                \"http://www.bloomberght.com/ht-yazarlar/abdurrahman-yildirim/2116917-10-yil-once-serbest-10-yil-sonra-yasak\",\n",
    "                \"http://www.bloomberght.com/ht-yazarlar/guntay-simsek/2116923-ihracatta-rekor-ithalatta-rekor-her-taraf-rekor\",\n",
    "                \"http://spor.mynet.com/futbol/sampiyonlar-ligi/157184-jerome-boateng-den-cuneyt-cakir-a-elestiri.html\",\n",
    "                \"http://www.hurriyet.com.tr/ekonomi/ihracat-nisan-ayinda-13-5-milyar-dolar-oldu-40822367\",\n",
    "                \"http://ekonomi.haber7.com/ekonomi/haber/2614392-borcu-olanlar-dikkat-18-ay-taksit-yapilacak/?detay=1\",\n",
    "             \"http://spor.mynet.com/fenerbahce/157181-giuliano-dan-aykut-kocaman-a-ovgu.html\",\n",
    "             \"http://spor.mynet.com/galatasaray/157176-kaderi-degistiren-kebapcidaki-kavga.html\",\n",
    "             \"http://spor.mynet.com/fenerbahce/157175-aziz-yildirim-in-secim-kozu.html\",\n",
    "             \"http://spor.mynet.com/fenerbahce/157174-aykut-kocaman-dan-besiktas-iddiasi.html\",\n",
    "             \"http://spor.mynet.com/basketbol/thy-euro-league/157173-fenerbahce-de-buyuk-surpriz.html\",\n",
    "             \"http://spor.mynet.com/futbol/sampiyonlar-ligi/157170-mac-ozeti-real-madrid-2-2-bayern-munih-golleri-izle-cuneyt-cakir-penalti-izle.html\",\n",
    "             \"http://spor.mynet.com/ingiltere/157168-cenk-tosun-icin-carpici-yorum-hayatta-kalmayi-basardi.html\",\n",
    "             \"http://spor.mynet.com/besiktas/157129-besiktas-ta-atiba-nin-yerine-abdullahi-shehu.html\",\n",
    "             \"http://www.hurriyet.com.tr/sporarena/besiktastan-olayli-fenerbahce-derbisi-kararina-itiraz-40822811\",\n",
    "             \"http://www.hurriyet.com.tr/sporarena/devler-liginde-ilk-finalist-real-madrid-40822363\"]"
   ]
  },
  {
   "cell_type": "code",
   "execution_count": 8,
   "metadata": {},
   "outputs": [],
   "source": [
    "corpus = []\n",
    "for url in urls:\n",
    "    response = request.urlopen(url)\n",
    "    raw = response.read().decode('utf8')\n",
    "    soup = BeautifulSoup(raw, \"lxml\")\n",
    "    [x.extract() for x in soup.findAll(['script', 'style'])]\n",
    "    raw = soup.get_text()\n",
    "    corpus.append(raw)\n",
    "    "
   ]
  },
  {
   "cell_type": "code",
   "execution_count": 9,
   "metadata": {},
   "outputs": [
    {
     "data": {
      "text/plain": [
       "\"  \\n\\n\\n\\n\\n\\n\\nCüneyt Başaran - Uyuyan dev uyandı - Bloomberg HT\\n\\n\\n\\n\\n\\n\\n\\n\\n\\n\\n\\n\\n\\n\\n\\n\\n\\n\\n\\n\\n\\n\\n\\n\\n\\n\\n\\n\\n\\n\\n\\n\\n\\n\\n\\n\\n\\n\\n\\n\\n\\n\\n\\n\\n\\n\\n\\n\\n\\n\\n\\n\\n\\n\\n\\n\\n\\n\\n\\n\\n\\n\\n\\n\\n\\n\\n\\n\\n\\n\\n\\n\\n\\n\\n\\n\\n\\n\\n\\n\\n\\n\\n\\n\\n\\n\\n\\n\\n\\n\\n\\n\\n\\n  \\n\\n \\n\\n\\n\\n\\n  \\n\\n\\n\\n\\n\\n\\n\\n \\n\\n\\n\\n\\n\\n\\n\\n\\n\\n\\n\\n\\n\\n\\n\\n\\n\\n\\n\\n\\n\\n\\n\\n\\n\\nMENÜ\\n TV\\n\\n\\n\\nPiyasalar\\n\\n\\n\\n\\n\\n\\n\\n\\nHaberler\\n\\n\\n\\n\\n\\n\\n\\n\\nTarım\\n\\n\\n\\n\\n\\n\\n\\n\\nFintech\\n\\n\\n\\n\\n\\n\\n\\n\\nEnerji\\n\\n\\n\\n\\n\\n\\n\\n\\nEkonomi Verileri\\n\\n\\n\\n\\n\\n\\n\\n\\nKripto Para\\n\\n\\n\\n\\n\\n Yazarlar\\n Video\\n Biyografi\\nBusinessHT\\n Üye Girişi\\n\\n\\n\\n\\n\\n\\n\\n\\n\\n\\n\\n\\n \\nBIST 100\\n\\n98.496\\n\\n\\n\\n\\n\\n\\n% 1,74\\n\\n\\n\\nUSD/TRY\\n\\n5,7113\\n\\n\\n\\n\\n\\n\\n% -1,07\\n\\n\\n\\nEUR/TRY\\n\\n6,4772\\n\\n\\n\\n\\n\\n\\n% -0,60\\n\\n\\n\\nEUR/USD\\n\\n1,1300\\n\\n\\n\\n\\n\\n\\n% 0,17\\n\\n\\n\\nFAİZ\\n\\n21,95\\n\\n\\n\\n\\n\\n\\n0,00\\n\\n\\n\\nALTIN/ONS\\n\\n1.275,64\\n\\n\\n\\n\\n\\n\\n% -0,09\\n\\n\\n\\nBRENT\\n\\n71,91\\n\\n\\n\\n\\n\\n\\n% 0,26\\n\\n\\n Browser not compatible. \\n\\n\\n\\n\\n\\n\\n\\n\\n\\nPiyasalarBorsaBISTAlt EndekslerHisse SenetleriDünya BorsalarıDövizAltın - EmtiaFaiz - BonoAlternatifHaberlerTarımFintechEnerjiEkonomi VerileriBloomberght Güven EndeksiTürkiye Makro VerileriKripto Para Yazarlar\\n\\nVideo\\n\\nGaleri\\n\\n\\n TV\\nBusinessHT\\n\\nÜyelik\\n\\nHoş geldiniz\\n\\n(Bilgilerimi Güncelle)\\nÇIKIŞ\\n\\n\\n\\n\\n\\n\\n\\nÜyelik  | Şifremi Unuttum\\n\\nGİRİŞ\\n\\n\\n\\n\\n\\n\\n\\n\\n\\n\\n\\n\\n\\n\\n\\n\\n\\n\\n\\n SON DAKİKA \\n\\n\\n\\n\\n\\n\\n\\n\\n\\n\\n\\n Manşetler :\\n\\n İMAMOĞLU 4 MİLYON 169 BİN 765, YILDIRIM 4 MİLYON 156 BİN 36 OY ALDI -AAİL BİRLEŞTİRME TUTANAKLARINA GÖRE İMAMOĞLU 13 BİN 729 FARK SAĞLADI -AAİBB'DEKİ DEVİR TESLİMİN SAAT 18'DE YAPILMASI ÖNGÖRÜLÜYOR -HTİMAMOĞLU MAZBATA ALIYORABD ŞUBAT DIŞ TİCARET AÇIĞI 49,4 MİLYAR DOLAR, BEKLENTİ 53,4 MİLYAR DOLARMALTEPE BİRLEŞTİRME TUTANAKLARI İL SEÇİM KURULU'NA ULAŞTI -HTMHP HEM İSTANBUL, HEM DE MALTEPE'DE SEÇİMLERİN İPTALİ İÇİN YSK'YA BAŞVURDU -HTAK PARTİ MALTEPE BİRLEŞTİRME TUTANAKLARININ UYGUN DÜZENLENMEDİĞİ GEREKÇESİYLE İTİRAZ ETTİMALTEPE BİRLEŞTİRME TUTANAKLARI İL SEÇİM KURULU'NA GÖNDERİLMEK ÜZERE YOLA ÇIKTI -HTMORGAN STANLEY 1Ç. DÜZELTİLMİŞ HİSSE BAŞINA KAR 1,33 DOLAR, BEKLENTİ 1,17 DOLAR\\n\\n\\n\\n\\n\\n\\n\\n\\n\\n\\n\\n \\n\\n\\n\\n\\n\\n \\n\\n \\n\\n\\n\\n\\n\\n \\n\\n\\n\\n\\n\\n\\n\\n\\n\\n\\n\\n\\n\\n\\n\\n\\n\\n\\n\\n\\n\\n\\n\\n\\n\\nCüneyt Başaran\\n\\n\\n\\n\\n\\n\\n\\n \\n\\n\\n\\n\\nDiğer Yazıları\\n06 Şubat 2018 Salı, 16:58\\n\\n\\n\\n\\n\\n\\n\\nUyuyan dev uyandı\\n\\n\\n\\n\\n\\n\\n\\n\\n\\n\\n\\n\\n\\n\\n\\n\\n\\n\\n\\n\\nMerakınızı daha fazla arttırmayayım. Yazımızın konusu II. Dünya Savaşı ya da Pearl Harbour bombalanması değil. Bahsettiğim uyanış “Küresel tahvil faizlerinde görülen yükseliş”.\\nBu satırların yazıldığı sırada ABD’den Ocak ayı işsizlik rakamı geldi , yüzde 4.1 işsizlik var ABD’de ve bu oran son 40 yılın en düşük işsizliği. Ama bundan daha etkileyici bir veri daha geldi ABD’den..“Ücretlerdeki artış”.\\xa0 Son gelen veriye göre ABD’de ortalama maaşlarda yıllık yüzde 2.9 artış gerçekleşmiş. Bu ne demek? En net ifadeyle “ABD’de son 2 yılın en yüksek maaş artışından bahsediyoruz” demek!\\nBiraz daha geriye gidelim..\\nGeçen hafta ABD’de 2017 büyüme rakamı açıklandı; yüzde 2.6. Kulağa çok etkileyici gelmemiş olabilir. O zaman bir de şunu dinleyin “2018 yılında ABD ekonomisinin yüzde 2.7-2.9 arasında büyümesi bekleniyor. Böylece ABD kesintisiz olarak 9 yıldır ortalama yüzde 2 büyümüş olacak” Diğer yandan ABD’yi 2008 yılında krize götüren konut sektöründe ortalama ev fiyatları, aylık satılan ev rakamları 2008 krizine yakalamış ve ülkenin çoğu yerinde üzerine çıkmış durumda. \\xa0\\nSadece ABD değil, gelişmiş ülkelerin hepsi toparlıyor..\\n2018 yılı gelişmiş ülkeler için 2011'den sonra büyüme anlamında en iyi yıl olacak. IMF’nin tahminlerine göre Euro Bölgesi'nde yüzde 2.2, Japonya’da yüzde 1.5 büyüme bekleniyor. 2018 yılında küresel büyüme oranı yüzde 3.9 olacak! 2008 krizi öncesi yüzde 4.5 ortalamaları henüz yakalayamadık ama son 8 yıldır hiç bu kadar yaklaşmamıştık!\\nSonunda faizler de büyüme – enflasyon sarmalını fiyatlamaya başladı\\nHer gülün dikeni olduğu gibi küresel büyümenin de bir dikeni var “artan enflasyon beklentileri”. Mevcut durumda enflasyon hiçbir gelişmiş ülkede alarm vermiyor. Hatta ABD’deki yüzde 1.7-18 , AB’deki 1.5- 1.6 seviyeleri hala oldukça düşük. Ama bir süredir enflasyon tarafındaki gelişmeleri endişe ile izleyen faiz tarafı artık rahat değil. Önce merkez bankaların tahvil alımlarını bitirip \\xa0/ azaltıp normalleşme çabaları, üzerine artan emtia fiyatları, yukarı revize edilen büyüme verileri ve en nihayetinde son dönemde gelen güçlü istihdam ve artan ücretler sonunda küresel tahvil faizlerini yerinde oynattı.\\nABD 10 yıllık tahvil faizi 4 yılın en yükseğinde\\nAslında kısa vadeli ABD tahvil faizleri bir süredir yukarıda bahsettiğim endişeleri ve FED faiz artışlarını fiyatlıyordu. 2 yıllık, 5 yıllık tahvil faizleri bundan 2 -3 ay önce 7-8 yılın en yüksek seviyesine çıkmıştı. Ancak sessiz kalan uzun vadeli; 10 yıllık, 30 yıllık tahvillerdi. ABD’de, Almanya’da, Japonya’da faizlerdeki getiri eğrisi aynı şeyi söylüyordu; “Kısa vadede büyüme gelmiş olabilir ancak kalıcı değil. Bu işin sonu yeniden resesyona gider”\\nAncak yıl başından beri yaşanan ve nihayet dün gelen güçlü verilerle perçinlenen durum şudur ki “Büyüme kalıcı , enflasyon da yakın zaman kendin gösterecek”. İşte bu algının değişmesiyle küresel tahvil piyasasında bir nevi “Cin şişeden çıktı”. Satışların hızlanmasıyla 10 yıllık ABD tahvil faizi yüzde 2.85’i, 30 yıllık ise yüzde 3.10’ları gördü. Alman 10 yıllık tahvillerinde de yüzde 0.8’ler görüldü.\\nKüresel ölçekte artık faizler eskiden olduğu ve uzun süredir alıştığımız gibi düşük değil. Üstelik büyük ihtimalle daha da artacak. Artık buna alışmamız lazım. Buna göre maliyet hesabı yapmamız gerekiyor. Çünkü ülkemize gelen doğrudan yatırımın yüzde 75’i ya da sıcak paranın yüzde 90’nın menşei ABD Doları \\xa0ya da Euro olduğunu düşünürsek işin kaynağında maliyetlerin hızla yükseliyor olmasının bizi de yakın zamanda etkilemesi kaçınılmaz olacaktır.\\n\\xa0 \\n\\n \\nBU YAZIYA YORUM YAZ \\n\\n\\n\\n\\n\\n\\n\\xa0\\n\\n\\nGÖNDER\\n\\n\\n\\n\\n\\n26 Mart 2018 Pazartesi, 12:04\\nMisafir\\nSorun siyasi ise para politikası ile sorunu çözemezsiniz.Bunu kayıtlara geçirin.\\n\\n\\n\\n\\n \\n\\n\\n\\n\\n\\n \\n\\n\\n \\n\\r\\n\\t\\t\\tÖNE ÇIKAN VİDEOLAR\\r\\n\\t\\t\\n\\n\\n\\n\\nEnerji sektörü reform paketini nasıl buldu? \\n\\n\\n\\n\\n'Kara paranın aklanmasını önlemede bulut teknolojisi nasıl fark yaratır?'  \\n\\n\\n\\n\\n\\n\\n\\n\\n\\n\\n\\n\\n\\n\\r\\n                        Sitemizdeki veriler Foreks tarafından sağlanmaktadır. NASDAQ, Dow Jones Industrial Average,\\r\\n                        SHCOM, FTSE 100, CAC 40, DAX 30, Hang Seng, IBEX 35, BOVESPA, VİOP ve Tahvil-bono verileri 15\\r\\n                        dakika; CME, NYMEX VE S&P verileri 10 dakika gecikmeli verilmektedir. YASAL UYARI\\r\\n                        © 2019                        Kayıtlı Elektronik Posta Adresi : cgorsel@hs03.kep.tr\\r\\n                    \\n\\n\\n\\n\\n\\n\\n\\n\\n\\n\\n\\n\\n\\n\\n\\n\\n\\n\\n\\n\\n\\n\\n\\n\\n\\n\\n\\n\\n\\n\\n\\n\\n\\n\\n\\n\\n\\n\\n\\n\\n\\n\\n\\n\\n\\nÜyelik\\n\\n\\n\\n\\n- Üye Ol\\n- Üye Girişi\\n- Şifremi Unuttum?\\n\\n\\n\\n\\n\\xa0\\n\\n\\n\\n\\n\\n\\nKATEGORİ\\n\\n\\n\\nALTIN\\r\\n                                            FİYATLARI\\nEKONOMİ\\r\\n                                            HABERLERİ\\nDÖVİZ\\r\\n                                            KURLARI\\nEKONOMİ\\r\\n                                            GÜNDEMİ\\nHİSSE\\r\\n                                            SENETLERİ\\nBORSA\\r\\n                                            İSTANBUL\\nGİZLİLİK\\r\\n                                            POLİTİKASI\\nÇEREZ\\r\\n                                            POLİTİKASI\\n\\n\\n\\n\\nBORSA\\r\\n                                            HABERLERİ\\nDÜNYA\\r\\n                                            BORSALARI\\nCANLI\\r\\n                                            YAYIN\\nKÜNYE\\n\\nİLETİŞİM\\n\\nİZLEYİCİ\\r\\n                                            TEMSİLCİSİ\\nKULLANIM\\r\\n                                            KOŞULLARI\\nBİYOGRAFİ\\n\\n\\n\\n\\n\\n\\n\\n\\n\\n\\n\\n\\n\\n\\n\\n\\n\\n\\n\\n\\n\\n\\n\\n\\n\\n\\n\\n\\n\\n\\n\\nC Görsel Yayınları A.Ş. Üretim ve Tasarım\\n\\nBilgi Grubu\\n\\nCBG.\\n\\n\\n\\n\\n\\n Yukarı\\n\\n\\n\\n\\n\\n\\n\\n \\n\\n\\n\\n\\n\\n\\n\\n\\n\\nSizlere daha iyi bir hizmet sunabilmek için sitemizde çerezlerden faydalanıyoruz. Sitemizi kullanmaya devam\\r\\n            ederek çerezleri kullanmamıza izin vermiş oluyorsunuz.\\r\\n            Detaylı bilgi almak için 'Çerez Politikasını' ve  'Gizlilik Politikasını' inceleyebilirsiniz.\\r\\n        \\n\\n TAMAM\\nDaha fazla bilgi\\n\\n\\nX\\n\\n\\n\\n\\n\\n\\n\\n\\n\\n\\n\\n\\n\""
      ]
     },
     "execution_count": 9,
     "metadata": {},
     "output_type": "execute_result"
    }
   ],
   "source": [
    "corpus[0]"
   ]
  },
  {
   "cell_type": "markdown",
   "metadata": {},
   "source": [
    "### Bu derlem için **tf-idf** matrisi "
   ]
  },
  {
   "cell_type": "code",
   "execution_count": 10,
   "metadata": {},
   "outputs": [],
   "source": [
    "vect_tr = TfidfVectorizer()\n",
    "X= vect_tr.fit_transform(corpus)\n"
   ]
  },
  {
   "cell_type": "markdown",
   "metadata": {},
   "source": [
    "#### Oluşan matrisin boyutları"
   ]
  },
  {
   "cell_type": "code",
   "execution_count": 11,
   "metadata": {},
   "outputs": [
    {
     "data": {
      "text/plain": [
       "(22, 5099)"
      ]
     },
     "execution_count": 11,
     "metadata": {},
     "output_type": "execute_result"
    }
   ],
   "source": [
    "X.shape"
   ]
  },
  {
   "cell_type": "markdown",
   "metadata": {},
   "source": [
    "### İlk 100 kelime ve **idf** değerleri"
   ]
  },
  {
   "cell_type": "code",
   "execution_count": 12,
   "metadata": {},
   "outputs": [
    {
     "name": "stdout",
     "output_type": "stream",
     "text": [
      "['kendisine', 'rezervasyonu', 'mücadele', 'ihracatımıza', 'kazanması', 'topraklarında', 'tartişildimücadeleyi', 'anlamıyorum', 'altına', 'eği', '176', 'sin', 'belki', 'krizin', 'planlarımızı', 'bunlarla', 'tarihine', 'mar', 'yıllara', 'proservis', 'üstü', 'şeyler', 'tutumu', 'yapmıyo', 'sahne', 'etmiyordu', 'istemiyor', '33', 'oluşturmuş', 'yükseltecek', 'keçisi', 'veyayurt', 'kaybetti', 'oyuncunun', 'aşağı', 'yazarlarıbelediyeler', 'haftalık', 'artıracak', 'öz', 'fi', 'haneli', 'pro', 'okuyucu', 'fed', 'başvurusunu', 'ulaşılan', 'ilki', 'bundesliga', 'yaklaşılmıyor', 'oldukları', 'stadın', 'ülkelerin', 'geç', 'petrol', 'açıklaması', 'aboneliklerini', 'york', 'milletlerinden', 'bankadan', 'yapilmasi', 'kurumun', 'etsin', 'izin', 'süt', 'varırsak', 'jazz', 'zorlamamaya', 'maliye', 'geçtiğimiz', 'imzalı', 'listede', 'savunmacı', 'öncelikler', 'anlaştı', 'milyonlarca', 'gümrük', 'yorumlari', 'güçle', 'red', 'olup', 'düzeylere', '1997', 'kovuldu', 'sempozyumu', 'yaparken', 'cenkten', 'konuştu', 'geldiğinden', 'adı', 'geçen', 'sorusu', 'seçimlere', 'milyar', '48', 'ustaoğlu', '144', 'yapıyoruz', 'alındı', 'dahilde', 'ali']\n",
      "[1.83290912 2.18958407 1.42744401 3.03688193 2.74919985 1.30228087 2.74919985 3.44234704 1.73759894 2.05605267 1.65058757 1.65058757 1.83290912 3.03688193\n",
      " 3.44234704 1.57054486 3.44234704 2.74919985 1.65058757 3.44234704 3.44234704 3.44234704 1.65058757 3.44234704 1.93826964 3.44234704 3.44234704 3.44234704\n",
      " 2.5260563  3.44234704 1.65058757 3.44234704 2.5260563  1.83290912 3.44234704 2.74919985 3.44234704 3.44234704 1.83290912 1.13976194 3.03688193 3.44234704\n",
      " 1.73759894 3.44234704 2.5260563  2.74919985 3.03688193 3.44234704 3.44234704 3.44234704 1.83290912 3.44234704 2.18958407 3.44234704 3.03688193 3.44234704\n",
      " 3.03688193 3.44234704 3.44234704 2.74919985 1.93826964 3.44234704 1.04445176 1.57054486 3.44234704 3.03688193 3.44234704 3.03688193 3.44234704 3.44234704\n",
      " 1.73759894 3.03688193 3.44234704 3.44234704 2.5260563  3.44234704 3.44234704 2.74919985 2.05605267 1.83290912 3.03688193 2.5260563  3.44234704 1.83290912\n",
      " 3.44234704 2.34373475 3.44234704 3.44234704 3.44234704 1.73759894 3.03688193 2.74919985 2.74919985 1.65058757 3.44234704 3.44234704 1.57054486 3.44234704\n",
      " 1.73759894 2.74919985]\n"
     ]
    }
   ],
   "source": [
    "print(list(vect_tr.vocabulary_.keys())[0:100])\n",
    "print(vect_tr.idf_[0:100])"
   ]
  },
  {
   "cell_type": "markdown",
   "metadata": {},
   "source": [
    "### *tf-idf* matrisi"
   ]
  },
  {
   "cell_type": "code",
   "execution_count": 13,
   "metadata": {},
   "outputs": [
    {
     "data": {
      "text/plain": [
       "array([0., 0., 0., 0., 0., 0., 0., 0., 0., 0., 0., 1., 1., 1., 1., 1., 1., 1., 1., 1., 1., 1.])"
      ]
     },
     "execution_count": 13,
     "metadata": {},
     "output_type": "execute_result"
    }
   ],
   "source": [
    "X\n",
    "y = np.concatenate((np.zeros(11), np.ones(11)))\n",
    "y"
   ]
  },
  {
   "cell_type": "markdown",
   "metadata": {},
   "source": [
    "# SVM algoritması ile sınıflandırma"
   ]
  },
  {
   "cell_type": "code",
   "execution_count": 14,
   "metadata": {},
   "outputs": [
    {
     "name": "stderr",
     "output_type": "stream",
     "text": [
      "c:\\users\\ozgur\\appdata\\local\\programs\\python\\python35\\lib\\site-packages\\sklearn\\svm\\base.py:196: FutureWarning: The default value of gamma will change from 'auto' to 'scale' in version 0.22 to account better for unscaled features. Set gamma explicitly to 'auto' or 'scale' to avoid this warning.\n",
      "  \"avoid this warning.\", FutureWarning)\n"
     ]
    },
    {
     "data": {
      "text/plain": [
       "array([[11,  0],\n",
       "       [ 0, 11]], dtype=int64)"
      ]
     },
     "execution_count": 14,
     "metadata": {},
     "output_type": "execute_result"
    }
   ],
   "source": [
    "clf = SVC(verbose=False, kernel=\"poly\")\n",
    "clf.fit(X,y)\n",
    "y_hat =clf.predict(X)\n",
    "cm = confusion_matrix(y,y_hat)\n",
    "cm"
   ]
  },
  {
   "cell_type": "markdown",
   "metadata": {},
   "source": [
    "# Deep Neural Netwroks ile sınıflandırma"
   ]
  },
  {
   "cell_type": "code",
   "execution_count": 15,
   "metadata": {},
   "outputs": [
    {
     "name": "stderr",
     "output_type": "stream",
     "text": [
      "Using TensorFlow backend.\n"
     ]
    },
    {
     "name": "stdout",
     "output_type": "stream",
     "text": [
      "WARNING:tensorflow:From c:\\users\\ozgur\\appdata\\local\\programs\\python\\python35\\lib\\site-packages\\tensorflow\\python\\framework\\op_def_library.py:263: colocate_with (from tensorflow.python.framework.ops) is deprecated and will be removed in a future version.\n",
      "Instructions for updating:\n",
      "Colocations handled automatically by placer.\n",
      "WARNING:tensorflow:From c:\\users\\ozgur\\appdata\\local\\programs\\python\\python35\\lib\\site-packages\\keras\\backend\\tensorflow_backend.py:3445: calling dropout (from tensorflow.python.ops.nn_ops) with keep_prob is deprecated and will be removed in a future version.\n",
      "Instructions for updating:\n",
      "Please use `rate` instead of `keep_prob`. Rate should be set to `rate = 1 - keep_prob`.\n",
      "_________________________________________________________________\n",
      "Layer (type)                 Output Shape              Param #   \n",
      "=================================================================\n",
      "dense_1 (Dense)              (None, 500)               2550000   \n",
      "_________________________________________________________________\n",
      "dropout_1 (Dropout)          (None, 500)               0         \n",
      "_________________________________________________________________\n",
      "dense_2 (Dense)              (None, 1000)              501000    \n",
      "_________________________________________________________________\n",
      "dropout_2 (Dropout)          (None, 1000)              0         \n",
      "_________________________________________________________________\n",
      "dense_3 (Dense)              (None, 500)               500500    \n",
      "_________________________________________________________________\n",
      "dropout_3 (Dropout)          (None, 500)               0         \n",
      "_________________________________________________________________\n",
      "dense_4 (Dense)              (None, 1)                 501       \n",
      "=================================================================\n",
      "Total params: 3,552,001\n",
      "Trainable params: 3,552,001\n",
      "Non-trainable params: 0\n",
      "_________________________________________________________________\n"
     ]
    }
   ],
   "source": [
    "from keras.models import Sequential\n",
    "from keras.layers import Dense, Dropout\n",
    "import matplotlib.pyplot as plt\n",
    "\n",
    "model = Sequential()\n",
    "model.add(Dense(500, input_dim=X.shape[1], activation='tanh', kernel_initializer='uniform' ))\n",
    "model.add(Dropout(0.2))\n",
    "model.add(Dense(1000, activation='tanh', kernel_initializer='uniform'))\n",
    "model.add(Dropout(0.2))\n",
    "model.add(Dense(500, activation='tanh', kernel_initializer='uniform' ))\n",
    "model.add(Dropout(0.2))\n",
    "model.add(Dense(1, activation='sigmoid', kernel_initializer='uniform'))\n",
    "model.compile(loss=\"binary_crossentropy\", optimizer=\"adam\", metrics=['accuracy'])\n",
    "model.summary()\n"
   ]
  },
  {
   "cell_type": "code",
   "execution_count": 16,
   "metadata": {},
   "outputs": [
    {
     "name": "stdout",
     "output_type": "stream",
     "text": [
      "WARNING:tensorflow:From c:\\users\\ozgur\\appdata\\local\\programs\\python\\python35\\lib\\site-packages\\tensorflow\\python\\ops\\math_ops.py:3066: to_int32 (from tensorflow.python.ops.math_ops) is deprecated and will be removed in a future version.\n",
      "Instructions for updating:\n",
      "Use tf.cast instead.\n",
      "Train on 17 samples, validate on 5 samples\n",
      "Epoch 1/10\n",
      "17/17 [==============================] - 1s 43ms/step - loss: 0.6939 - acc: 0.5294 - val_loss: 0.7181 - val_acc: 0.2000\n",
      "Epoch 2/10\n",
      "17/17 [==============================] - 0s 2ms/step - loss: 0.6013 - acc: 0.9412 - val_loss: 0.7703 - val_acc: 0.4000\n",
      "Epoch 3/10\n",
      "17/17 [==============================] - 0s 2ms/step - loss: 0.4258 - acc: 1.0000 - val_loss: 0.9050 - val_acc: 0.4000\n",
      "Epoch 4/10\n",
      "17/17 [==============================] - 0s 3ms/step - loss: 0.2109 - acc: 1.0000 - val_loss: 1.1978 - val_acc: 0.4000\n",
      "Epoch 5/10\n",
      "17/17 [==============================] - 0s 1ms/step - loss: 0.0678 - acc: 1.0000 - val_loss: 1.7225 - val_acc: 0.4000\n",
      "Epoch 6/10\n",
      "17/17 [==============================] - 0s 3ms/step - loss: 0.0165 - acc: 1.0000 - val_loss: 2.4694 - val_acc: 0.4000\n",
      "Epoch 7/10\n",
      "17/17 [==============================] - 0s 3ms/step - loss: 0.0046 - acc: 1.0000 - val_loss: 3.3377 - val_acc: 0.4000\n",
      "Epoch 8/10\n",
      "17/17 [==============================] - 0s 2ms/step - loss: 6.9453e-04 - acc: 1.0000 - val_loss: 4.2153 - val_acc: 0.4000\n",
      "Epoch 9/10\n",
      "17/17 [==============================] - 0s 3ms/step - loss: 1.1087e-04 - acc: 1.0000 - val_loss: 5.0313 - val_acc: 0.4000\n",
      "Epoch 10/10\n",
      "17/17 [==============================] - 0s 3ms/step - loss: 1.0609e-05 - acc: 1.0000 - val_loss: 5.7512 - val_acc: 0.4000\n"
     ]
    }
   ],
   "source": [
    "history = model.fit(X, y, epochs=10, batch_size=500, verbose=1,\n",
    "                    validation_split=0.2)"
   ]
  },
  {
   "cell_type": "code",
   "execution_count": 17,
   "metadata": {},
   "outputs": [
    {
     "name": "stdout",
     "output_type": "stream",
     "text": [
      "[[11  0]\n",
      " [ 3  8]]\n"
     ]
    }
   ],
   "source": [
    "y_hat = model.predict_classes(X)\n",
    "cm = confusion_matrix(y, y_hat)\n",
    "print(cm)"
   ]
  },
  {
   "cell_type": "code",
   "execution_count": 18,
   "metadata": {},
   "outputs": [
    {
     "data": {
      "image/png": "[encoded data removed]",
      "text/plain": [
       "<Figure size 432x288 with 1 Axes>"
      ]
     },
     "metadata": {
      "needs_background": "light"
     },
     "output_type": "display_data"
    },
    {
     "data": {
      "image/png": "[encoded data removed]",
      "text/plain": [
       "<Figure size 432x288 with 1 Axes>"
      ]
     },
     "metadata": {
      "needs_background": "light"
     },
     "output_type": "display_data"
    }
   ],
   "source": [
    "plt.plot(history.history['acc'])\n",
    "plt.plot(history.history['val_acc'])\n",
    "plt.ylabel('dogruluk', fontsize=18)\n",
    "plt.xlabel('epoch', fontsize=18)\n",
    "plt.legend(['train', 'test'], loc='upper left')\n",
    "plt.show()\n",
    "\n",
    "plt.plot(history.history['loss'])\n",
    "plt.plot(history.history['val_loss'])\n",
    "\n",
    "plt.ylabel('kayip', fontsize=18)\n",
    "plt.xlabel('epoch', fontsize=18)\n",
    "plt.legend(['train', 'test'], loc='upper left')\n",
    "\n",
    "plt.show()"
   ]
  },
  {
   "cell_type": "code",
   "execution_count": null,
   "metadata": {},
   "outputs": [],
   "source": []
  }
 ],
 "metadata": {
  "kernelspec": {
   "display_name": "Python 3",
   "language": "python",
   "name": "python3"
  },
  "language_info": {
   "codemirror_mode": {
    "name": "ipython",
    "version": 3
   },
   "file_extension": ".py",
   "mimetype": "text/x-python",
   "name": "python",
   "nbconvert_exporter": "python",
   "pygments_lexer": "ipython3",
   "version": "3.5.4"
  }
 },
 "nbformat": 4,
 "nbformat_minor": 2
}
