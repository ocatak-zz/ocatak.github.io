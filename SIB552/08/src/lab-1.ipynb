{
 "cells": [
  {
   "cell_type": "markdown",
   "metadata": {},
   "source": [
    "# 9. Hafta Lab-1: Bagging\n",
    "## BGM 565: Siber Güvenlik için Makine Öğrenme Yöntemleri\n",
    "## İstanbul Şehir Üni. - Bilgi Güvenliği Müh.\n",
    "### Dr. Ferhat Özgür Çatak\n",
    "Bu lab çalışması kapsamında bagging yöntemi ile topluluk sınıflandırma modeli oluşturulacaktır."
   ]
  },
  {
   "cell_type": "code",
   "execution_count": 1,
   "metadata": {},
   "outputs": [],
   "source": [
    "from sklearn.datasets import make_classification\n",
    "from sklearn.neighbors import KNeighborsClassifier\n",
    "from sklearn.svm import SVC\n",
    "from sklearn.tree import DecisionTreeClassifier\n",
    "from sklearn.ensemble import BaggingClassifier\n",
    "from sklearn.metrics import confusion_matrix\n",
    "from sklearn.model_selection import train_test_split\n",
    "import numpy as np\n",
    "\n",
    "#np.random.seed(22)"
   ]
  },
  {
   "cell_type": "markdown",
   "metadata": {},
   "source": [
    "### Veri kümesi oluştur."
   ]
  },
  {
   "cell_type": "code",
   "execution_count": 2,
   "metadata": {},
   "outputs": [],
   "source": [
    "X, y = make_classification(n_samples=1000,n_features=2, n_redundant=0, n_informative=1,\n",
    "                             n_clusters_per_class=1, class_sep=0.5)\n",
    "X_train, X_test, y_train, y_test = train_test_split(X, y, test_size=0.33, random_state=42)"
   ]
  },
  {
   "cell_type": "markdown",
   "metadata": {},
   "source": [
    "### 4 farklı sınıflandırma algoritması seçelim"
   ]
  },
  {
   "cell_type": "code",
   "execution_count": 3,
   "metadata": {},
   "outputs": [],
   "source": [
    "names = [\"Nearest Neighbors\", \"Linear SVM\", \"RBF SVM\", \"Decision Tree\"]\n",
    "classifiers = [\n",
    "    KNeighborsClassifier(3),\n",
    "    SVC(kernel=\"linear\", C=0.025),\n",
    "    SVC(gamma=2, C=1),\n",
    "    DecisionTreeClassifier()]"
   ]
  },
  {
   "cell_type": "markdown",
   "metadata": {},
   "source": [
    "### Sınıflandırma algoritmalarının tek başına performansları"
   ]
  },
  {
   "cell_type": "code",
   "execution_count": 4,
   "metadata": {},
   "outputs": [
    {
     "name": "stdout",
     "output_type": "stream",
     "text": [
      "------------------------------\n",
      "Algoritma: Nearest Neighbors\n",
      "Egitim örnekleri\n",
      "[[136  35]\n",
      " [ 37 122]]\n",
      "------------------------------\n",
      "Algoritma: Linear SVM\n",
      "Egitim örnekleri\n",
      "[[149  22]\n",
      " [ 35 124]]\n",
      "------------------------------\n",
      "Algoritma: RBF SVM\n",
      "Egitim örnekleri\n",
      "[[150  21]\n",
      " [ 34 125]]\n",
      "------------------------------\n",
      "Algoritma: Decision Tree\n",
      "Egitim örnekleri\n",
      "[[120  51]\n",
      " [ 46 113]]\n"
     ]
    }
   ],
   "source": [
    "for name, clf in zip(names, classifiers):\n",
    "    print('-'*30)\n",
    "    print(\"Algoritma:\",name)\n",
    "    clf.fit(X_train,y_train)\n",
    "    y_test_pred = clf.predict(X_test)\n",
    "    cm = confusion_matrix(y_test,y_test_pred)\n",
    "    print('Egitim örnekleri')\n",
    "    print(cm)"
   ]
  },
  {
   "cell_type": "markdown",
   "metadata": {},
   "source": [
    "### Bagging ile 4 farklı model oluşturalım"
   ]
  },
  {
   "cell_type": "code",
   "execution_count": 5,
   "metadata": {},
   "outputs": [
    {
     "name": "stdout",
     "output_type": "stream",
     "text": [
      "----------------------------------------\n",
      "Algoritma: Nearest Neighbors\n",
      "Egitim örnekleri\n",
      "[[146  25]\n",
      " [ 36 123]]\n",
      "----------------------------------------\n",
      "Algoritma: Linear SVM\n",
      "Egitim örnekleri\n",
      "[[149  22]\n",
      " [ 35 124]]\n",
      "----------------------------------------\n",
      "Algoritma: RBF SVM\n",
      "Egitim örnekleri\n",
      "[[150  21]\n",
      " [ 34 125]]\n",
      "----------------------------------------\n",
      "Algoritma: Decision Tree\n",
      "Egitim örnekleri\n",
      "[[148  23]\n",
      " [ 38 121]]\n"
     ]
    }
   ],
   "source": [
    "for name, clf in zip(names, classifiers):\n",
    "    print('-'*40)\n",
    "    print(\"Algoritma:\",name)\n",
    "    bagging_clf = BaggingClassifier( base_estimator=clf,\n",
    "                                    n_estimators=500,\n",
    "                                    max_samples=0.5,\n",
    "                                    verbose=0)\n",
    "    bagging_clf.fit(X_train,y_train)\n",
    "    y_test_pred = bagging_clf.predict(X_test)\n",
    "    cm = confusion_matrix(y_test,y_test_pred)\n",
    "    print('Egitim örnekleri')\n",
    "    print(cm)"
   ]
  },
  {
   "cell_type": "code",
   "execution_count": null,
   "metadata": {},
   "outputs": [],
   "source": []
  }
 ],
 "metadata": {
  "kernelspec": {
   "display_name": "Python 3",
   "language": "python",
   "name": "python3"
  },
  "language_info": {
   "codemirror_mode": {
    "name": "ipython",
    "version": 3
   },
   "file_extension": ".py",
   "mimetype": "text/x-python",
   "name": "python",
   "nbconvert_exporter": "python",
   "pygments_lexer": "ipython3",
   "version": "3.6.7"
  }
 },
 "nbformat": 4,
 "nbformat_minor": 2
}
