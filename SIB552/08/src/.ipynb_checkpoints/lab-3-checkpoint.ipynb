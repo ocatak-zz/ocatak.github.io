{
 "cells": [
  {
   "cell_type": "markdown",
   "metadata": {},
   "source": [
    "# 9. Hafta Lab-3: AdaBoost\n",
    "## BGM 565: Siber Güvenlik için Makine Öğrenme Yöntemleri\n",
    "## İstanbul Şehir Üni. - Bilgi Güvenliği Müh.\n",
    "### Dr. Ferhat Özgür Çatak\n",
    "Bu lab çalışması kapsamında *AdaBoost* yöntemi ile topluluk sınıflandırma modeli oluşturulacaktır."
   ]
  },
  {
   "cell_type": "code",
   "execution_count": 1,
   "metadata": {},
   "outputs": [],
   "source": [
    "from sklearn.datasets import make_classification\n",
    "from sklearn.svm import SVC\n",
    "from sklearn.tree import DecisionTreeClassifier\n",
    "from sklearn.metrics import confusion_matrix\n",
    "from sklearn.model_selection import train_test_split\n",
    "from sklearn.ensemble import AdaBoostClassifier\n",
    "import numpy as np\n",
    "\n",
    "np.random.seed(22)"
   ]
  },
  {
   "cell_type": "markdown",
   "metadata": {},
   "source": [
    "### Veri kümesi oluştur."
   ]
  },
  {
   "cell_type": "code",
   "execution_count": 3,
   "metadata": {},
   "outputs": [],
   "source": [
    "X, y = make_classification(n_samples=10000,n_features=2, n_redundant=0, n_informative=1,\n",
    "                             n_clusters_per_class=1, class_sep=0.5)\n",
    "X_train, X_test, y_train, y_test = train_test_split(X, y, test_size=0.33, random_state=42)"
   ]
  },
  {
   "cell_type": "markdown",
   "metadata": {},
   "source": [
    "### 4 farklı sınıflanırma algoritması"
   ]
  },
  {
   "cell_type": "code",
   "execution_count": 4,
   "metadata": {},
   "outputs": [
    {
     "name": "stdout",
     "output_type": "stream",
     "text": [
      "Algoritma: Decision Tree\n",
      "Egitim örnekleri\n",
      "[[1551  102]\n",
      " [ 134 1513]]\n",
      "Algoritma: RBF SVM\n",
      "Egitim örnekleri\n",
      "[[1642   11]\n",
      " [ 196 1451]]\n",
      "Algoritma: Decision Tree\n",
      "Egitim örnekleri\n",
      "[[1636   17]\n",
      " [ 138 1509]]\n"
     ]
    }
   ],
   "source": [
    "names = [\"Decision Tree\", \"RBF SVM\", \"Decision Tree\"]\n",
    "classifiers = [\n",
    "    DecisionTreeClassifier(),\n",
    "    SVC(gamma=2, C=1),\n",
    "    DecisionTreeClassifier(max_depth=5)]\n",
    "\n",
    "for name, clf in zip(names, classifiers):\n",
    "    print(\"Algoritma:\",name)\n",
    "    clf.fit(X_train,y_train)\n",
    "    y_test_pred = clf.predict(X_test)\n",
    "    cm = confusion_matrix(y_test,y_test_pred)\n",
    "    print('Egitim örnekleri')\n",
    "    print(cm)"
   ]
  },
  {
   "cell_type": "markdown",
   "metadata": {},
   "source": [
    "### Bagging"
   ]
  },
  {
   "cell_type": "code",
   "execution_count": null,
   "metadata": {},
   "outputs": [
    {
     "name": "stdout",
     "output_type": "stream",
     "text": [
      "----------------------------------------\n",
      "Algoritma: Decision Tree\n",
      "Egitim örnekleri\n",
      "[[1550  103]\n",
      " [ 132 1515]]\n",
      "----------------------------------------\n",
      "Algoritma: RBF SVM\n"
     ]
    }
   ],
   "source": [
    "for name, clf in zip(names, classifiers):\n",
    "    print('-'*40)\n",
    "    print(\"Algoritma:\",name)\n",
    "    bagging_clf = AdaBoostClassifier( base_estimator=clf,\n",
    "                                    n_estimators=100,\n",
    "                                    algorithm=\"SAMME\")\n",
    "    bagging_clf.fit(X_train,y_train)\n",
    "    y_test_pred = bagging_clf.predict(X_test)\n",
    "    cm = confusion_matrix(y_test,y_test_pred)\n",
    "    print('Egitim örnekleri')\n",
    "    print(cm)"
   ]
  },
  {
   "cell_type": "code",
   "execution_count": null,
   "metadata": {},
   "outputs": [],
   "source": []
  }
 ],
 "metadata": {
  "kernelspec": {
   "display_name": "Python 3",
   "language": "python",
   "name": "python3"
  },
  "language_info": {
   "codemirror_mode": {
    "name": "ipython",
    "version": 3
   },
   "file_extension": ".py",
   "mimetype": "text/x-python",
   "name": "python",
   "nbconvert_exporter": "python",
   "pygments_lexer": "ipython3",
   "version": "3.5.4"
  }
 },
 "nbformat": 4,
 "nbformat_minor": 2
}
