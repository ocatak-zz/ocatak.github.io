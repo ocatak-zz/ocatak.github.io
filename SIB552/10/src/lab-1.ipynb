{
 "cells": [
  {
   "cell_type": "markdown",
   "metadata": {},
   "source": [
    "# 11. Hafta Lab-1: Parola Oluşturma\n",
    "## BGM 565: Siber Güvenlik için Makine Öğrenme Yöntemleri\n",
    "## İstanbul Şehir Üni. - Bilgi Güvenliği Müh.\n",
    "### Dr. Ferhat Özgür Çatak\n",
    "Bu lab çalışması kapsamında rockyou.txt veri kümesi kullanılarak parolalar oluşturulacaktır."
   ]
  },
  {
   "cell_type": "code",
   "execution_count": 1,
   "metadata": {},
   "outputs": [
    {
     "name": "stderr",
     "output_type": "stream",
     "text": [
      "Using TensorFlow backend.\n"
     ]
    }
   ],
   "source": [
    "import sys\n",
    "import numpy\n",
    "from keras.models import Sequential\n",
    "from keras.layers import Dense\n",
    "from keras.layers import Dropout\n",
    "from keras.layers import LSTM\n",
    "from keras.callbacks import ModelCheckpoint\n",
    "from keras.utils import np_utils\n",
    "import io\n",
    "import random"
   ]
  },
  {
   "cell_type": "markdown",
   "metadata": {},
   "source": [
    "### Veri kümesi\n",
    "rockyou.txt veri dosyasından ilk 50.000 karakter oku"
   ]
  },
  {
   "cell_type": "code",
   "execution_count": 2,
   "metadata": {},
   "outputs": [],
   "source": [
    "filename = \"rockyou_simple.txt\"\n",
    "#raw_text = open(filename).read()\n",
    "\n",
    "with io.open(filename,'r',encoding='utf8') as f:\n",
    "    raw_text = f.read()\n",
    "\n",
    "raw_text = raw_text.replace(\"\\r\", \" \").replace(\"\\n\",\" \")[0:50000]"
   ]
  },
  {
   "cell_type": "markdown",
   "metadata": {},
   "source": [
    "### Sözlük oluşturulması\n",
    "Her bir karakter kullanılacak şekilde sözlük oluştur"
   ]
  },
  {
   "cell_type": "code",
   "execution_count": 3,
   "metadata": {},
   "outputs": [
    {
     "data": {
      "text/plain": [
       "'  ! \" # $ % & \\' ( ) * + , - . / 0 1 2 3 4 5 6 7 8 9 : ; < = > @ A B C D E F G H I J K L M N O P Q R S T U V W X Y Z [ \\\\ ] ^ _ ` a b c d e f g h i j k l m n o p q r s t u v w x y z ~ ¬ ° ± µ Ñ ü π ‡ ∏ ∑ √ ∞'"
      ]
     },
     "execution_count": 3,
     "metadata": {},
     "output_type": "execute_result"
    }
   ],
   "source": [
    "chars = sorted(list(set(raw_text)))\n",
    "char_to_int = dict((c, i) for i, c in enumerate(chars))\n",
    "int_to_char = dict((i, c) for i, c in enumerate(chars))\n",
    "\" \".join(chars)"
   ]
  },
  {
   "cell_type": "code",
   "execution_count": 4,
   "metadata": {},
   "outputs": [
    {
     "name": "stdout",
     "output_type": "stream",
     "text": [
      "Total Characters:  50000\n",
      "Total Vocab:  103\n"
     ]
    }
   ],
   "source": [
    "n_chars = len(raw_text)\n",
    "n_vocab = len(chars)\n",
    "print( \"Total Characters: \", n_chars)\n",
    "print( \"Total Vocab: \", n_vocab)"
   ]
  },
  {
   "cell_type": "markdown",
   "metadata": {},
   "source": [
    "### Veri kümesinin hazırlanması\n",
    "integer olarak kodlanmış input-output çiftlerini oluştur."
   ]
  },
  {
   "cell_type": "code",
   "execution_count": 5,
   "metadata": {},
   "outputs": [
    {
     "name": "stdout",
     "output_type": "stream",
     "text": [
      "49900 49900\n",
      "[73, 81, 78, 23, 18, 20, 0, 76, 66, 81, 86, 64, 74, 64, 75, 64, 0, 44, 68, 87, 72, 66, 78, 3, 17, 0, 36, 49, 40, 51, 52, 19, 18, 0, 17, 17, 21, 21, 19, 18, 17, 21, 0, 20, 18, 17, 25, 18, 21, 24, 0, 76, 78, 77, 64, 67, 64, 82, 0, 73, 17, 17, 18, 25, 24, 21, 0, 88, 68, 75, 75, 78, 86, 25, 10, 0, 67, 78, 70, 66, 71, 78, 86, 22, 20, 0, 73, 66, 73, 66, 0, 66, 73, 66, 22, 24, 20, 19, 25, 0]\n",
      "49900\n"
     ]
    }
   ],
   "source": [
    "seq_length = 100\n",
    "dataX = []\n",
    "dataY = []\n",
    "for i in range(0, n_chars - seq_length, 1):\n",
    "    seq_in = raw_text[i:i + seq_length]\n",
    "    seq_out = raw_text[i + seq_length]\n",
    "    dataX.append([char_to_int[char] for char in seq_in])\n",
    "    dataY.append(char_to_int[seq_out])\n",
    "n_patterns = len(dataX)\n",
    "print(len(dataX), len(dataY))\n",
    "print(dataX[0])\n",
    "print(len(dataY))"
   ]
  },
  {
   "cell_type": "code",
   "execution_count": 6,
   "metadata": {},
   "outputs": [],
   "source": [
    "X = numpy.reshape(dataX, (n_patterns, seq_length, 1))\n",
    "# normalize\n",
    "X = X / float(n_vocab)\n",
    "# one hot encode the output variable\n",
    "y = np_utils.to_categorical(dataY)"
   ]
  },
  {
   "cell_type": "code",
   "execution_count": 7,
   "metadata": {},
   "outputs": [
    {
     "data": {
      "text/plain": [
       "(49900, 100, 1)"
      ]
     },
     "execution_count": 7,
     "metadata": {},
     "output_type": "execute_result"
    }
   ],
   "source": [
    "X.shape"
   ]
  },
  {
   "cell_type": "markdown",
   "metadata": {},
   "source": [
    "### Model"
   ]
  },
  {
   "cell_type": "code",
   "execution_count": 8,
   "metadata": {},
   "outputs": [
    {
     "name": "stdout",
     "output_type": "stream",
     "text": [
      "WARNING:tensorflow:From c:\\users\\user\\appdata\\local\\programs\\python\\python36\\lib\\site-packages\\tensorflow\\python\\framework\\op_def_library.py:263: colocate_with (from tensorflow.python.framework.ops) is deprecated and will be removed in a future version.\n",
      "Instructions for updating:\n",
      "Colocations handled automatically by placer.\n",
      "WARNING:tensorflow:From c:\\users\\user\\appdata\\local\\programs\\python\\python36\\lib\\site-packages\\keras\\backend\\tensorflow_backend.py:3445: calling dropout (from tensorflow.python.ops.nn_ops) with keep_prob is deprecated and will be removed in a future version.\n",
      "Instructions for updating:\n",
      "Please use `rate` instead of `keep_prob`. Rate should be set to `rate = 1 - keep_prob`.\n"
     ]
    }
   ],
   "source": [
    "model = Sequential()\n",
    "model.add(LSTM(128, input_shape=(X.shape[1], X.shape[2]), activation='tanh', return_sequences=True))\n",
    "model.add(Dropout(0.1))\n",
    "model.add(LSTM(128, activation='tanh'))\n",
    "model.add(Dropout(0.1))\n",
    "model.add(Dense(y.shape[1], activation='softmax'))"
   ]
  },
  {
   "cell_type": "markdown",
   "metadata": {},
   "source": [
    "### Model Yukle\n",
    "Daha önce eğitilmiş olan modeli yükle"
   ]
  },
  {
   "cell_type": "code",
   "execution_count": 9,
   "metadata": {},
   "outputs": [],
   "source": [
    "\n",
    "filename = \"01-rockyou.hdf5\"\n",
    "model.load_weights(filename)\n"
   ]
  },
  {
   "cell_type": "code",
   "execution_count": 10,
   "metadata": {},
   "outputs": [],
   "source": [
    "model.compile(loss='categorical_crossentropy', optimizer='adam', metrics=['accuracy'])\n",
    "\n",
    "# define the checkpoint\n",
    "checkpoint = ModelCheckpoint(filename, monitor='loss', verbose=1, save_best_only=True, mode='min')\n",
    "callbacks_list = [checkpoint]\n",
    "# fit the model\n",
    "# model.fit(X, y, epochs=10, batch_size=5000, callbacks=callbacks_list, verbose=1)"
   ]
  },
  {
   "cell_type": "markdown",
   "metadata": {},
   "source": [
    "### Pasword Generation\n",
    "10 kere parola oluştur. Parola oluşturulurken metin içinde parolalar alınarak oluşturulacaktır."
   ]
  },
  {
   "cell_type": "code",
   "execution_count": 11,
   "metadata": {},
   "outputs": [
    {
     "name": "stdout",
     "output_type": "stream",
     "text": [
      "Seed:\n",
      "\"  Younes07 ccavallero1 jkljkljkljkl 0845764309 21wqsaxz90 kamkar2 guaguasita123 KHASI houndgrey 22213 \"\n",
      "-13 3443myslides achi1404 Icanskate13 3889223ROCIO 028700490a missy259 jabene flgfus tuoke54 w005894 -\n",
      "Seed:\n",
      "\"  aceofdan 1160100168008 corchnocs sikilbau Bammie10 ginzice faded99 delil@h1 xikit4TEAMo mor1101 bhe \"\n",
      "-bheron bigbes KOLUO6383 eeil2001 sentned loomyen1 0167855442 meme15128 jerii 0074744976 0865356756 m-\n",
      "Seed:\n",
      "\"  kaan123. 16deoctubre orrrx 497808 MATT4444 017951573 arsenalpow wajacanla xher0tic* sureno13m petch \"\n",
      "-muangcaan grokyyonen marieru geumeeter ealllira1 018058804 0818697382 lantessa tatssoner1 082282764 -\n",
      "Seed:\n",
      "\"  tshbr1328 093578948 mywaykarena lifeboss lynx1212 CMONEY4 snj122503 0855503261 michlel13 bobby2007  \"\n",
      "-088064158 asiakforero yonaboo92 Nhatcolle tasytan jracdte papzanu tipe5402 cicdatcypo slovaduclu 085-\n",
      "Seed:\n",
      "\"  whyrich cloee. murdocs870210 936195 TOOTYMAX squamos torie catakin 074348706 mg12893 biggrils lucia \"\n",
      "-nto 0831107 0829110746 ilsssod1304 doses124 nimiuwar duvalolasys 600003009 0600100 yatitly krohragl0-\n",
      "Seed:\n",
      "\"  MADRIGAL SWEETSHIT0770 klunker stef&beni haronidluz 2tall415 outofwork AleshGeisha25 GOONSQUAD1 rav \"\n",
      "-el2aun kaltys paloay4ism 066325008 sictadde faldirekatt aalar1218 mtunas91 blaranlo11088 jhoitosisa -\n",
      "Seed:\n",
      "\"  b.4.l.0911 wmhsr9507 92031101087 kgreene91 littlenipper andreita7! laurel91 mygrump1 968350918.p wn \"\n",
      "-1984 0343488 aankocarati baiebeyict jabestsaano 89353588 malabe19 larbar14 balia19 7463327264 lorilo-\n",
      "Seed:\n",
      "\"  fsm579 JAZZY catjoe25 sharpest r3379799 iluvcows1 919679 hondaku chinita1234 betsy479 math427 diome \"\n",
      "-des2 itech2001 mhug5522 IATITe97 su4nera 1163166356655044 kir1114 loxgiga lianangle37 rund1202 cotar-\n",
      "Seed:\n",
      "\"  3361743 0815509949 vinalla1 sheikhg lilmiss222 2527968 leosaeli 70GOldroad 09222472537 botarga BABY \"\n",
      "-DADDY34 jadsam porssh s;yffumovon neinbycejo aipgk121 27592532 kad1102 18140427 13373227 bovebbanler-\n",
      "Seed:\n",
      "\"  mimiette13 fresitaz3 ynaffit06 elmoxxx 9jez4bet birdeppy butchebabz craziey90 tonmaster whitesox87  \"\n",
      "-2003SPT minilisa7 rowhrolo 034827 2467277123 977800 ce,yhsleres saoreeet1 alxyov8 019959955 54222176-\n",
      "Seed:\n",
      "\"  sosoghetto kim87lew molly127 8925405 gsxr74 macho22 daneliss abuhan1231 125481 katuna77 789727 2206 \"\n",
      "-love jrinaldi Rr4llv8 alelngan CHCRDOS1 eodtlon18 toaleroyto arans30 malneit llosesocar teflesisar t-\n",
      "Seed:\n",
      "\"  742374327 namraata iilov3k3iith17 skonn sonics44 0732411033 jesse8263 22507230ryanfoeh s9640955i ke \"\n",
      "-nny33 alvai2007 nienifmer 08018174 11555338 maccattat02 601010773 2829333 marac663 aara21 hygget222 -\n",
      "Seed:\n",
      "\"  lesliehater aa44rr lala226 4184136214 ericalnn savemaria annaoc mompy123 2sugao bebe1587 4621010033 \"\n",
      "- yugaroganitz  sulveera3 rurteelam latolez13 44amisa abet_ddd abudares alkdarie sarocnien1 hosns0083-\n",
      "Seed:\n",
      "\"  jaidden1 versacon luvrock14 fallon! Nati1234 rick1968 2242178 95166733 703THEBEST 47110267 storyman \"\n",
      "-1 renshajane maksnari 0 mofpeupereesde 050227484 514411.8 LEZBAS 1269ojere 0048om eoonraee palalae l-\n",
      "Seed:\n",
      "\"  3689yz yesica22 ralphandrew tory23 iniiqie LANA200 ALBERTO88 piggy555 kauczuczek 0870290807 av1107  \"\n",
      "-wizarg35 s305204 fullmetal07 wowzerzz wakanmove ximersarer 01817erk Duhri Lyvelin99 aarians luvactaa-\n",
      "Seed:\n",
      "\"  0836770095 $gemini chauntea1 MADRECITA 170292cjy15 LIZOSHKUS cometzing mrv070805 mykal50 octobet10  \"\n",
      "-tweetyellow waana83 wanjun SKULLhead1 i0nell hollay324 zonnatore mefana 23839333 rabulte18 pore_dd j-\n",
      "Seed:\n",
      "\"  caencaun arcbrd010407 noon0850089391 pirategurl1 bossmaia Lauren-demii DYEMIN1 thefinalfrontier bah \"\n",
      "-agian cragaza 255108 elolkeri lonoez wu4731 669922707 fuddemeotnt motferen aledand jike808 elooelari-\n",
      "Seed:\n",
      "\"  stephy82 bangparcok erkan80 tokitafurimmer23 tigerpoop1 40cm122 vblitgxHo-v'Cyo TRONCALFUL iloveyou \"\n",
      "-uk vatolomaall haliinaees kesmana londart poperratert1 01006620 1112270 loallelil 08432273311 dosret-\n",
      "Seed:\n",
      "\"  aminatun virguen abac11 KRIZIAN 15985 aristell Sylvia78 4839205 kertug 9398lopez123 teb9908 ars1141 \"\n",
      "-79 varlam joelli33 BUSTER60 jianaidel rage2095 rancatanl 083311699 tiparid cl77617 iuovemoek maccma1-\n",
      "Seed:\n",
      "\"  JOELLE27 28021797 ceci24 lil912 playb0y878 931007fel5036 559120 suiryyjefri shark96 cindylu4 rain_m \"\n",
      "-an atgmtmeree 2488804 996808 633133 slooowow U-98244 marlllo74 oiei_r4 drkinfet digottoi peroanit pi-\n"
     ]
    }
   ],
   "source": [
    "for i in range(20):\n",
    "  \n",
    "    space_idx = random.choice([pos for pos, char in enumerate(raw_text) if char == \" \"])\n",
    "    pattern = dataX[space_idx]\n",
    "    \n",
    "    print( \"Seed:\")\n",
    "    print( \"\\\"\", ''.join([int_to_char[value] for value in pattern]), \"\\\"\")\n",
    "    \n",
    "    # generate characters\n",
    "    sys.stdout.write(\"-\")\n",
    "    for i in range(100):\n",
    "        x = numpy.reshape(pattern, (1, len(pattern), 1))\n",
    "        x = x / float(n_vocab)\n",
    "        '''\n",
    "        prediction = model.predict(x, verbose=0)\n",
    "        index = numpy.argmax(prediction)\n",
    "        '''\n",
    "        index = model.predict_classes(x, verbose=0)[0]\n",
    "        result = int_to_char[index]\n",
    "        seq_in = [int_to_char[value] for value in pattern]\n",
    "        sys.stdout.write(result)\n",
    "        pattern.append(index)\n",
    "        pattern = pattern[1:len(pattern)]\n",
    "    sys.stdout.write(\"-\\n\")"
   ]
  },
  {
   "cell_type": "code",
   "execution_count": null,
   "metadata": {},
   "outputs": [],
   "source": []
  }
 ],
 "metadata": {
  "kernelspec": {
   "display_name": "Python 3",
   "language": "python",
   "name": "python3"
  },
  "language_info": {
   "codemirror_mode": {
    "name": "ipython",
    "version": 3
   },
   "file_extension": ".py",
   "mimetype": "text/x-python",
   "name": "python",
   "nbconvert_exporter": "python",
   "pygments_lexer": "ipython3",
   "version": "3.6.7"
  }
 },
 "nbformat": 4,
 "nbformat_minor": 2
}
