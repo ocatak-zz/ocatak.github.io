{
 "cells": [
  {
   "cell_type": "markdown",
   "metadata": {},
   "source": [
    "# 8. Hafta Lab-1: Evrişimli Derin Öğrenme - Convolutional Deep Learning\n",
    "## BGM 565: Siber Güvenlik için Makine Öğrenme Yöntemleri\n",
    "## İstanbul Şehir Üni. - Bilgi Güvenliği Müh.\n",
    "### Dr. Ferhat Özgür Çatak\n",
    "\n",
    "Bu lab çalışması kapsamında CNN ile el yazısı tanıma uygulaması yapılacaktır."
   ]
  },
  {
   "cell_type": "code",
   "execution_count": 1,
   "metadata": {},
   "outputs": [
    {
     "name": "stderr",
     "output_type": "stream",
     "text": [
      "Using TensorFlow backend.\n"
     ]
    }
   ],
   "source": [
    "from keras.datasets import mnist\n",
    "import matplotlib.pyplot as plt\n",
    "from IPython.display import Image"
   ]
  },
  {
   "cell_type": "markdown",
   "metadata": {},
   "source": [
    "#### *Mnist* veri kümesini kullan.\n",
    "Veri kümesinde bulunan ilk 6 rakamı gösterelim."
   ]
  },
  {
   "cell_type": "code",
   "execution_count": 2,
   "metadata": {},
   "outputs": [
    {
     "data": {
      "image/png": "[encoded data removed]",
      "text/plain": [
       "<Figure size 432x288 with 6 Axes>"
      ]
     },
     "metadata": {
      "needs_background": "light"
     },
     "output_type": "display_data"
    }
   ],
   "source": [
    "(X_train, y_train), (X_test, y_test) = mnist.load_data()\n",
    "# plot 4 images as gray scale\n",
    "plt.subplot(231)\n",
    "plt.imshow(X_train[0], cmap=plt.get_cmap('gray'))\n",
    "plt.subplot(232)\n",
    "plt.imshow(X_train[1], cmap=plt.get_cmap('gray'))\n",
    "plt.subplot(233)\n",
    "plt.imshow(X_train[2], cmap=plt.get_cmap('gray'))\n",
    "plt.subplot(234)\n",
    "plt.imshow(X_train[3], cmap=plt.get_cmap('gray'))\n",
    "plt.subplot(235)\n",
    "plt.imshow(X_train[4], cmap=plt.get_cmap('gray'))\n",
    "plt.subplot(236)\n",
    "plt.imshow(X_train[5], cmap=plt.get_cmap('gray'))\n",
    "\n",
    "# show the plot\n",
    "plt.show()"
   ]
  },
  {
   "cell_type": "markdown",
   "metadata": {},
   "source": [
    "#### *Keras* yükleyelim."
   ]
  },
  {
   "cell_type": "code",
   "execution_count": 3,
   "metadata": {},
   "outputs": [],
   "source": [
    "import numpy\n",
    "from keras.datasets import mnist\n",
    "from keras.models import Sequential\n",
    "from keras.layers import Dense\n",
    "from keras.layers import Dropout\n",
    "from keras.layers import Flatten\n",
    "from keras.layers.convolutional import Conv2D\n",
    "from keras.layers.convolutional import MaxPooling2D\n",
    "from keras.utils import np_utils\n",
    "from keras import backend as K\n",
    "from keras.utils import plot_model\n",
    "\n",
    "numpy.random.seed(15)"
   ]
  },
  {
   "cell_type": "code",
   "execution_count": 4,
   "metadata": {},
   "outputs": [
    {
     "name": "stdout",
     "output_type": "stream",
     "text": [
      "X_train.shape : (60000, 28, 28)\n",
      "X_test.shape  : (10000, 28, 28)\n"
     ]
    }
   ],
   "source": [
    "print(\"X_train.shape :\",X_train.shape)\n",
    "print(\"X_test.shape  :\",X_test.shape)"
   ]
  },
  {
   "cell_type": "code",
   "execution_count": 5,
   "metadata": {},
   "outputs": [],
   "source": [
    "X_train = X_train.reshape(X_train.shape[0], 1, 28, 28).astype('float32')\n",
    "X_test = X_test.reshape(X_test.shape[0], 1, 28, 28).astype('float32')"
   ]
  },
  {
   "cell_type": "markdown",
   "metadata": {},
   "source": [
    "#### reshape : [samples][pixels][width][height]"
   ]
  },
  {
   "cell_type": "code",
   "execution_count": 6,
   "metadata": {},
   "outputs": [
    {
     "name": "stdout",
     "output_type": "stream",
     "text": [
      "X_train.shape : (60000, 1, 28, 28)\n",
      "X_test.shape  : (10000, 1, 28, 28)\n"
     ]
    }
   ],
   "source": [
    "print(\"X_train.shape :\",X_train.shape)\n",
    "print(\"X_test.shape  :\",X_test.shape)"
   ]
  },
  {
   "cell_type": "markdown",
   "metadata": {},
   "source": [
    "#### Veri kümesini normalize et."
   ]
  },
  {
   "cell_type": "code",
   "execution_count": 7,
   "metadata": {},
   "outputs": [
    {
     "name": "stdout",
     "output_type": "stream",
     "text": [
      "Shape 1: (60000, 28, 28, 1)\n",
      "Shape 2: (60000, 28, 28, 1)\n"
     ]
    }
   ],
   "source": [
    "X_train = X_train.reshape(X_train.shape[0], 28, 28, 1)\n",
    "X_test = X_test.reshape(X_test.shape[0], 28, 28, 1)\n",
    "\n",
    "X_train = X_train.astype('float32')\n",
    "X_test = X_test.astype('float32')\n",
    "\n",
    "X_train/=255\n",
    "X_test/=255\n",
    "\n",
    "# one hot encode outputs\n",
    "y_train = np_utils.to_categorical(y_train)\n",
    "y_test = np_utils.to_categorical(y_test)\n",
    "num_classes = y_test.shape[1]\n",
    "\n",
    "num_classes = y_test.shape[1]\n",
    "\n",
    "print(\"Shape 1:\",X_train.shape)\n",
    "#X_train = X_train[0:10000,:]\n",
    "print(\"Shape 2:\",X_train.shape)"
   ]
  },
  {
   "cell_type": "markdown",
   "metadata": {},
   "source": [
    "### CNN Modelini oluştur."
   ]
  },
  {
   "cell_type": "code",
   "execution_count": 8,
   "metadata": {},
   "outputs": [
    {
     "name": "stdout",
     "output_type": "stream",
     "text": [
      "_________________________________________________________________\n",
      "Layer (type)                 Output Shape              Param #   \n",
      "=================================================================\n",
      "conv2d_1 (Conv2D)            (None, 24, 24, 32)        832       \n",
      "_________________________________________________________________\n",
      "max_pooling2d_1 (MaxPooling2 (None, 12, 12, 32)        0         \n",
      "_________________________________________________________________\n",
      "dropout_1 (Dropout)          (None, 12, 12, 32)        0         \n",
      "_________________________________________________________________\n",
      "flatten_1 (Flatten)          (None, 4608)              0         \n",
      "_________________________________________________________________\n",
      "dense_1 (Dense)              (None, 64)                294976    \n",
      "_________________________________________________________________\n",
      "dense_2 (Dense)              (None, 10)                650       \n",
      "=================================================================\n",
      "Total params: 296,458\n",
      "Trainable params: 296,458\n",
      "Non-trainable params: 0\n",
      "_________________________________________________________________\n"
     ]
    }
   ],
   "source": [
    "model = Sequential()\n",
    "model.add(Conv2D(32, (5, 5), input_shape=(28,28,1), activation='relu'))\n",
    "model.add(MaxPooling2D(pool_size=(2,2)))\n",
    "model.add(Dropout(0.2))\n",
    "model.add(Flatten())\n",
    "model.add(Dense(64, activation='relu'))\n",
    "model.add(Dense(num_classes, activation='softmax'))\n",
    "# Compile model\n",
    "model.compile(loss='categorical_crossentropy', optimizer='adam', metrics=['accuracy'])\n",
    "model.summary()"
   ]
  },
  {
   "cell_type": "code",
   "execution_count": 9,
   "metadata": {},
   "outputs": [],
   "source": [
    "# plot_model(model, show_shapes=True, to_file=\"cnn.png\")\n",
    "# Image(\"cnn.png\")"
   ]
  },
  {
   "cell_type": "markdown",
   "metadata": {},
   "source": [
    "### Modeli eğitelim"
   ]
  },
  {
   "cell_type": "code",
   "execution_count": 10,
   "metadata": {},
   "outputs": [
    {
     "name": "stdout",
     "output_type": "stream",
     "text": [
      "Train on 18000 samples, validate on 42000 samples\n",
      "Epoch 1/10\n",
      "18000/18000 [==============================] - 43s 2ms/step - loss: 1.3736 - acc: 0.6379 - val_loss: 0.5457 - val_acc: 0.8468\n",
      "Epoch 2/10\n",
      "18000/18000 [==============================] - 42s 2ms/step - loss: 0.4327 - acc: 0.8704 - val_loss: 0.3279 - val_acc: 0.9041\n",
      "Epoch 3/10\n",
      "18000/18000 [==============================] - 45s 2ms/step - loss: 0.3072 - acc: 0.9093 - val_loss: 0.2649 - val_acc: 0.9229\n",
      "Epoch 4/10\n",
      "18000/18000 [==============================] - 43s 2ms/step - loss: 0.2444 - acc: 0.9283 - val_loss: 0.2203 - val_acc: 0.9371\n",
      "Epoch 5/10\n",
      "18000/18000 [==============================] - 42s 2ms/step - loss: 0.2029 - acc: 0.9418 - val_loss: 0.1862 - val_acc: 0.9464\n",
      "Epoch 6/10\n",
      "18000/18000 [==============================] - 43s 2ms/step - loss: 0.1685 - acc: 0.9527 - val_loss: 0.1626 - val_acc: 0.9531\n",
      "Epoch 7/10\n",
      "18000/18000 [==============================] - 42s 2ms/step - loss: 0.1437 - acc: 0.9578 - val_loss: 0.1421 - val_acc: 0.9592\n",
      "Epoch 8/10\n",
      "18000/18000 [==============================] - 42s 2ms/step - loss: 0.1253 - acc: 0.9643 - val_loss: 0.1307 - val_acc: 0.9624\n",
      "Epoch 9/10\n",
      "18000/18000 [==============================] - 44s 2ms/step - loss: 0.1088 - acc: 0.9695 - val_loss: 0.1147 - val_acc: 0.9671\n",
      "Epoch 10/10\n",
      "18000/18000 [==============================] - 44s 2ms/step - loss: 0.0946 - acc: 0.9738 - val_loss: 0.1116 - val_acc: 0.9676\n"
     ]
    }
   ],
   "source": [
    "history = model.fit(X_train, y_train, epochs=10, batch_size=1024, verbose=1,\n",
    "                    validation_split=0.7)"
   ]
  },
  {
   "cell_type": "code",
   "execution_count": 11,
   "metadata": {},
   "outputs": [
    {
     "data": {
      "image/png": "[encoded data removed]",
      "text/plain": [
       "<Figure size 432x288 with 1 Axes>"
      ]
     },
     "metadata": {
      "needs_background": "light"
     },
     "output_type": "display_data"
    },
    {
     "data": {
      "image/png": "[encoded data removed]",
      "text/plain": [
       "<Figure size 432x288 with 1 Axes>"
      ]
     },
     "metadata": {
      "needs_background": "light"
     },
     "output_type": "display_data"
    }
   ],
   "source": [
    "plt.plot(history.history['acc'])\n",
    "plt.plot(history.history['val_acc'])\n",
    "plt.ylabel('dogruluk', fontsize=18)\n",
    "plt.xlabel('epoch', fontsize=18)\n",
    "plt.legend(['train', 'test'], loc='upper left')\n",
    "plt.show()\n",
    "\n",
    "plt.plot(history.history['loss'])\n",
    "plt.plot(history.history['val_loss'])\n",
    "\n",
    "plt.ylabel('kayip', fontsize=18)\n",
    "plt.xlabel('epoch', fontsize=18)\n",
    "plt.legend(['train', 'test'], loc='upper left')\n",
    "\n",
    "plt.show()"
   ]
  },
  {
   "cell_type": "code",
   "execution_count": null,
   "metadata": {},
   "outputs": [],
   "source": []
  }
 ],
 "metadata": {
  "anaconda-cloud": {},
  "kernelspec": {
   "display_name": "Python 3",
   "language": "python",
   "name": "python3"
  },
  "language_info": {
   "codemirror_mode": {
    "name": "ipython",
    "version": 3
   },
   "file_extension": ".py",
   "mimetype": "text/x-python",
   "name": "python",
   "nbconvert_exporter": "python",
   "pygments_lexer": "ipython3",
   "version": "3.6.7"
  }
 },
 "nbformat": 4,
 "nbformat_minor": 2
}
